{
  "nbformat": 4,
  "nbformat_minor": 0,
  "metadata": {
    "colab": {
      "provenance": []
    },
    "kernelspec": {
      "name": "python3",
      "display_name": "Python 3"
    },
    "language_info": {
      "name": "python"
    }
  },
  "cells": [
    {
      "cell_type": "code",
      "execution_count": null,
      "metadata": {
        "colab": {
          "base_uri": "https://localhost:8080/"
        },
        "id": "-p1wuBLhz2g-",
        "outputId": "e9dd274a-6007-417d-9043-0cbbd5253658"
      },
      "outputs": [
        {
          "output_type": "stream",
          "name": "stdout",
          "text": [
            "Looking in indexes: https://pypi.org/simple, https://us-python.pkg.dev/colab-wheels/public/simple/\n",
            "Requirement already satisfied: tweet-preprocessor in /usr/local/lib/python3.8/dist-packages (0.6.0)\n",
            "Looking in indexes: https://pypi.org/simple, https://us-python.pkg.dev/colab-wheels/public/simple/\n",
            "Requirement already satisfied: transformers in /usr/local/lib/python3.8/dist-packages (4.25.1)\n",
            "Requirement already satisfied: pyyaml>=5.1 in /usr/local/lib/python3.8/dist-packages (from transformers) (6.0)\n",
            "Requirement already satisfied: packaging>=20.0 in /usr/local/lib/python3.8/dist-packages (from transformers) (21.3)\n",
            "Requirement already satisfied: tqdm>=4.27 in /usr/local/lib/python3.8/dist-packages (from transformers) (4.64.1)\n",
            "Requirement already satisfied: filelock in /usr/local/lib/python3.8/dist-packages (from transformers) (3.8.0)\n",
            "Requirement already satisfied: requests in /usr/local/lib/python3.8/dist-packages (from transformers) (2.23.0)\n",
            "Requirement already satisfied: huggingface-hub<1.0,>=0.10.0 in /usr/local/lib/python3.8/dist-packages (from transformers) (0.11.1)\n",
            "Requirement already satisfied: numpy>=1.17 in /usr/local/lib/python3.8/dist-packages (from transformers) (1.21.6)\n",
            "Requirement already satisfied: tokenizers!=0.11.3,<0.14,>=0.11.1 in /usr/local/lib/python3.8/dist-packages (from transformers) (0.13.2)\n",
            "Requirement already satisfied: regex!=2019.12.17 in /usr/local/lib/python3.8/dist-packages (from transformers) (2022.6.2)\n",
            "Requirement already satisfied: typing-extensions>=3.7.4.3 in /usr/local/lib/python3.8/dist-packages (from huggingface-hub<1.0,>=0.10.0->transformers) (4.1.1)\n",
            "Requirement already satisfied: pyparsing!=3.0.5,>=2.0.2 in /usr/local/lib/python3.8/dist-packages (from packaging>=20.0->transformers) (3.0.9)\n",
            "Requirement already satisfied: urllib3!=1.25.0,!=1.25.1,<1.26,>=1.21.1 in /usr/local/lib/python3.8/dist-packages (from requests->transformers) (1.24.3)\n",
            "Requirement already satisfied: idna<3,>=2.5 in /usr/local/lib/python3.8/dist-packages (from requests->transformers) (2.10)\n",
            "Requirement already satisfied: certifi>=2017.4.17 in /usr/local/lib/python3.8/dist-packages (from requests->transformers) (2022.9.24)\n",
            "Requirement already satisfied: chardet<4,>=3.0.2 in /usr/local/lib/python3.8/dist-packages (from requests->transformers) (3.0.4)\n",
            "Looking in indexes: https://pypi.org/simple, https://us-python.pkg.dev/colab-wheels/public/simple/\n",
            "Requirement already satisfied: opendatasets in /usr/local/lib/python3.8/dist-packages (0.1.22)\n",
            "Requirement already satisfied: click in /usr/local/lib/python3.8/dist-packages (from opendatasets) (7.1.2)\n",
            "Requirement already satisfied: kaggle in /usr/local/lib/python3.8/dist-packages (from opendatasets) (1.5.12)\n",
            "Requirement already satisfied: tqdm in /usr/local/lib/python3.8/dist-packages (from opendatasets) (4.64.1)\n",
            "Requirement already satisfied: python-slugify in /usr/local/lib/python3.8/dist-packages (from kaggle->opendatasets) (7.0.0)\n",
            "Requirement already satisfied: six>=1.10 in /usr/local/lib/python3.8/dist-packages (from kaggle->opendatasets) (1.15.0)\n",
            "Requirement already satisfied: certifi in /usr/local/lib/python3.8/dist-packages (from kaggle->opendatasets) (2022.9.24)\n",
            "Requirement already satisfied: requests in /usr/local/lib/python3.8/dist-packages (from kaggle->opendatasets) (2.23.0)\n",
            "Requirement already satisfied: urllib3 in /usr/local/lib/python3.8/dist-packages (from kaggle->opendatasets) (1.24.3)\n",
            "Requirement already satisfied: python-dateutil in /usr/local/lib/python3.8/dist-packages (from kaggle->opendatasets) (2.8.2)\n",
            "Requirement already satisfied: text-unidecode>=1.3 in /usr/local/lib/python3.8/dist-packages (from python-slugify->kaggle->opendatasets) (1.3)\n",
            "Requirement already satisfied: idna<3,>=2.5 in /usr/local/lib/python3.8/dist-packages (from requests->kaggle->opendatasets) (2.10)\n",
            "Requirement already satisfied: chardet<4,>=3.0.2 in /usr/local/lib/python3.8/dist-packages (from requests->kaggle->opendatasets) (3.0.4)\n",
            "Looking in indexes: https://pypi.org/simple, https://us-python.pkg.dev/colab-wheels/public/simple/\n",
            "Requirement already satisfied: tqdm in /usr/local/lib/python3.8/dist-packages (4.64.1)\n"
          ]
        }
      ],
      "source": [
        "!pip install tweet-preprocessor\n",
        "!pip install transformers\n",
        "!pip install opendatasets\n",
        "!pip install tqdm"
      ]
    },
    {
      "cell_type": "code",
      "execution_count": null,
      "metadata": {
        "colab": {
          "base_uri": "https://localhost:8080/",
          "height": 206
        },
        "id": "xfHVqDT9toXN",
        "outputId": "d227f45b-3ac0-4ece-bb28-7824d8b81161"
      },
      "outputs": [
        {
          "output_type": "execute_result",
          "data": {
            "text/plain": [
              "                             cuenta partido   timestamp  \\\n",
              "0  a34133350b0605cb24081843f63176ca    psoe  1363973492   \n",
              "1  a34133350b0605cb24081843f63176ca    psoe  1364061035   \n",
              "2  a34133350b0605cb24081843f63176ca    psoe  1364116804   \n",
              "3  a34133350b0605cb24081843f63176ca    psoe  1364120967   \n",
              "4  a34133350b0605cb24081843f63176ca    psoe  1364152692   \n",
              "\n",
              "                                               tweet  \n",
              "0  @vesteve3 @manubenas @ccoo_rm @desobediencia_ ...  \n",
              "1  “@kirovast: @Hugo_Moran muy fan de la \"radical...  \n",
              "2  @ALTAS_PRESIONES Nuevos dueños para las renova...  \n",
              "3  @jumanjisolar @solartradex @josea_dolera El di...  \n",
              "4  “@cesarnayu: https://t.co/J4OTXj1x7w … Por fav...  "
            ],
            "text/html": [
              "\n",
              "  <div id=\"df-ab4db6a0-df0c-4018-98f5-9df5f39ac9e9\">\n",
              "    <div class=\"colab-df-container\">\n",
              "      <div>\n",
              "<style scoped>\n",
              "    .dataframe tbody tr th:only-of-type {\n",
              "        vertical-align: middle;\n",
              "    }\n",
              "\n",
              "    .dataframe tbody tr th {\n",
              "        vertical-align: top;\n",
              "    }\n",
              "\n",
              "    .dataframe thead th {\n",
              "        text-align: right;\n",
              "    }\n",
              "</style>\n",
              "<table border=\"1\" class=\"dataframe\">\n",
              "  <thead>\n",
              "    <tr style=\"text-align: right;\">\n",
              "      <th></th>\n",
              "      <th>cuenta</th>\n",
              "      <th>partido</th>\n",
              "      <th>timestamp</th>\n",
              "      <th>tweet</th>\n",
              "    </tr>\n",
              "  </thead>\n",
              "  <tbody>\n",
              "    <tr>\n",
              "      <th>0</th>\n",
              "      <td>a34133350b0605cb24081843f63176ca</td>\n",
              "      <td>psoe</td>\n",
              "      <td>1363973492</td>\n",
              "      <td>@vesteve3 @manubenas @ccoo_rm @desobediencia_ ...</td>\n",
              "    </tr>\n",
              "    <tr>\n",
              "      <th>1</th>\n",
              "      <td>a34133350b0605cb24081843f63176ca</td>\n",
              "      <td>psoe</td>\n",
              "      <td>1364061035</td>\n",
              "      <td>“@kirovast: @Hugo_Moran muy fan de la \"radical...</td>\n",
              "    </tr>\n",
              "    <tr>\n",
              "      <th>2</th>\n",
              "      <td>a34133350b0605cb24081843f63176ca</td>\n",
              "      <td>psoe</td>\n",
              "      <td>1364116804</td>\n",
              "      <td>@ALTAS_PRESIONES Nuevos dueños para las renova...</td>\n",
              "    </tr>\n",
              "    <tr>\n",
              "      <th>3</th>\n",
              "      <td>a34133350b0605cb24081843f63176ca</td>\n",
              "      <td>psoe</td>\n",
              "      <td>1364120967</td>\n",
              "      <td>@jumanjisolar @solartradex @josea_dolera El di...</td>\n",
              "    </tr>\n",
              "    <tr>\n",
              "      <th>4</th>\n",
              "      <td>a34133350b0605cb24081843f63176ca</td>\n",
              "      <td>psoe</td>\n",
              "      <td>1364152692</td>\n",
              "      <td>“@cesarnayu: https://t.co/J4OTXj1x7w … Por fav...</td>\n",
              "    </tr>\n",
              "  </tbody>\n",
              "</table>\n",
              "</div>\n",
              "      <button class=\"colab-df-convert\" onclick=\"convertToInteractive('df-ab4db6a0-df0c-4018-98f5-9df5f39ac9e9')\"\n",
              "              title=\"Convert this dataframe to an interactive table.\"\n",
              "              style=\"display:none;\">\n",
              "        \n",
              "  <svg xmlns=\"http://www.w3.org/2000/svg\" height=\"24px\"viewBox=\"0 0 24 24\"\n",
              "       width=\"24px\">\n",
              "    <path d=\"M0 0h24v24H0V0z\" fill=\"none\"/>\n",
              "    <path d=\"M18.56 5.44l.94 2.06.94-2.06 2.06-.94-2.06-.94-.94-2.06-.94 2.06-2.06.94zm-11 1L8.5 8.5l.94-2.06 2.06-.94-2.06-.94L8.5 2.5l-.94 2.06-2.06.94zm10 10l.94 2.06.94-2.06 2.06-.94-2.06-.94-.94-2.06-.94 2.06-2.06.94z\"/><path d=\"M17.41 7.96l-1.37-1.37c-.4-.4-.92-.59-1.43-.59-.52 0-1.04.2-1.43.59L10.3 9.45l-7.72 7.72c-.78.78-.78 2.05 0 2.83L4 21.41c.39.39.9.59 1.41.59.51 0 1.02-.2 1.41-.59l7.78-7.78 2.81-2.81c.8-.78.8-2.07 0-2.86zM5.41 20L4 18.59l7.72-7.72 1.47 1.35L5.41 20z\"/>\n",
              "  </svg>\n",
              "      </button>\n",
              "      \n",
              "  <style>\n",
              "    .colab-df-container {\n",
              "      display:flex;\n",
              "      flex-wrap:wrap;\n",
              "      gap: 12px;\n",
              "    }\n",
              "\n",
              "    .colab-df-convert {\n",
              "      background-color: #E8F0FE;\n",
              "      border: none;\n",
              "      border-radius: 50%;\n",
              "      cursor: pointer;\n",
              "      display: none;\n",
              "      fill: #1967D2;\n",
              "      height: 32px;\n",
              "      padding: 0 0 0 0;\n",
              "      width: 32px;\n",
              "    }\n",
              "\n",
              "    .colab-df-convert:hover {\n",
              "      background-color: #E2EBFA;\n",
              "      box-shadow: 0px 1px 2px rgba(60, 64, 67, 0.3), 0px 1px 3px 1px rgba(60, 64, 67, 0.15);\n",
              "      fill: #174EA6;\n",
              "    }\n",
              "\n",
              "    [theme=dark] .colab-df-convert {\n",
              "      background-color: #3B4455;\n",
              "      fill: #D2E3FC;\n",
              "    }\n",
              "\n",
              "    [theme=dark] .colab-df-convert:hover {\n",
              "      background-color: #434B5C;\n",
              "      box-shadow: 0px 1px 3px 1px rgba(0, 0, 0, 0.15);\n",
              "      filter: drop-shadow(0px 1px 2px rgba(0, 0, 0, 0.3));\n",
              "      fill: #FFFFFF;\n",
              "    }\n",
              "  </style>\n",
              "\n",
              "      <script>\n",
              "        const buttonEl =\n",
              "          document.querySelector('#df-ab4db6a0-df0c-4018-98f5-9df5f39ac9e9 button.colab-df-convert');\n",
              "        buttonEl.style.display =\n",
              "          google.colab.kernel.accessAllowed ? 'block' : 'none';\n",
              "\n",
              "        async function convertToInteractive(key) {\n",
              "          const element = document.querySelector('#df-ab4db6a0-df0c-4018-98f5-9df5f39ac9e9');\n",
              "          const dataTable =\n",
              "            await google.colab.kernel.invokeFunction('convertToInteractive',\n",
              "                                                     [key], {});\n",
              "          if (!dataTable) return;\n",
              "\n",
              "          const docLinkHtml = 'Like what you see? Visit the ' +\n",
              "            '<a target=\"_blank\" href=https://colab.research.google.com/notebooks/data_table.ipynb>data table notebook</a>'\n",
              "            + ' to learn more about interactive tables.';\n",
              "          element.innerHTML = '';\n",
              "          dataTable['output_type'] = 'display_data';\n",
              "          await google.colab.output.renderOutput(dataTable, element);\n",
              "          const docLink = document.createElement('div');\n",
              "          docLink.innerHTML = docLinkHtml;\n",
              "          element.appendChild(docLink);\n",
              "        }\n",
              "      </script>\n",
              "    </div>\n",
              "  </div>\n",
              "  "
            ]
          },
          "metadata": {},
          "execution_count": 215
        }
      ],
      "source": [
        "import pandas as pd\n",
        "df = pd. read_csv('/content/tweets100.csv')\n",
        "df.head()"
      ]
    },
    {
      "cell_type": "markdown",
      "source": [
        "Translating Spanish tweets to English"
      ],
      "metadata": {
        "id": "s0EvPZn0Pmop"
      }
    },
    {
      "cell_type": "code",
      "source": [
        "!pip3 install googletrans==3.1.0a0"
      ],
      "metadata": {
        "colab": {
          "base_uri": "https://localhost:8080/"
        },
        "id": "b_sliUT3U3A2",
        "outputId": "cf396da3-d6e8-4cf8-ddc4-e5399680b8f3"
      },
      "execution_count": null,
      "outputs": [
        {
          "output_type": "stream",
          "name": "stdout",
          "text": [
            "Looking in indexes: https://pypi.org/simple, https://us-python.pkg.dev/colab-wheels/public/simple/\n",
            "Requirement already satisfied: googletrans==3.1.0a0 in /usr/local/lib/python3.8/dist-packages (3.1.0a0)\n",
            "Requirement already satisfied: httpx==0.13.3 in /usr/local/lib/python3.8/dist-packages (from googletrans==3.1.0a0) (0.13.3)\n",
            "Requirement already satisfied: httpcore==0.9.* in /usr/local/lib/python3.8/dist-packages (from httpx==0.13.3->googletrans==3.1.0a0) (0.9.1)\n",
            "Requirement already satisfied: hstspreload in /usr/local/lib/python3.8/dist-packages (from httpx==0.13.3->googletrans==3.1.0a0) (2022.12.1)\n",
            "Requirement already satisfied: sniffio in /usr/local/lib/python3.8/dist-packages (from httpx==0.13.3->googletrans==3.1.0a0) (1.3.0)\n",
            "Requirement already satisfied: chardet==3.* in /usr/local/lib/python3.8/dist-packages (from httpx==0.13.3->googletrans==3.1.0a0) (3.0.4)\n",
            "Requirement already satisfied: certifi in /usr/local/lib/python3.8/dist-packages (from httpx==0.13.3->googletrans==3.1.0a0) (2022.9.24)\n",
            "Requirement already satisfied: rfc3986<2,>=1.3 in /usr/local/lib/python3.8/dist-packages (from httpx==0.13.3->googletrans==3.1.0a0) (1.5.0)\n",
            "Requirement already satisfied: idna==2.* in /usr/local/lib/python3.8/dist-packages (from httpx==0.13.3->googletrans==3.1.0a0) (2.10)\n",
            "Requirement already satisfied: h11<0.10,>=0.8 in /usr/local/lib/python3.8/dist-packages (from httpcore==0.9.*->httpx==0.13.3->googletrans==3.1.0a0) (0.9.0)\n",
            "Requirement already satisfied: h2==3.* in /usr/local/lib/python3.8/dist-packages (from httpcore==0.9.*->httpx==0.13.3->googletrans==3.1.0a0) (3.2.0)\n",
            "Requirement already satisfied: hyperframe<6,>=5.2.0 in /usr/local/lib/python3.8/dist-packages (from h2==3.*->httpcore==0.9.*->httpx==0.13.3->googletrans==3.1.0a0) (5.2.0)\n",
            "Requirement already satisfied: hpack<4,>=3.0 in /usr/local/lib/python3.8/dist-packages (from h2==3.*->httpcore==0.9.*->httpx==0.13.3->googletrans==3.1.0a0) (3.0.0)\n"
          ]
        }
      ]
    },
    {
      "cell_type": "code",
      "source": [
        "from googletrans import Translator\n",
        "import pandas as pd\n",
        "translator = Translator()\n",
        "tweets = df['tweet'].tolist()\n",
        "df['English'] = df['tweet'].apply(translator.translate,src='es',dest='en').apply(getattr,args=('text',))\n",
        "\n",
        "df"
      ],
      "metadata": {
        "colab": {
          "base_uri": "https://localhost:8080/",
          "height": 424
        },
        "id": "1N7TQo5bNJDY",
        "outputId": "74ac5c5b-1e7e-416e-84c6-3ec96dc6f505"
      },
      "execution_count": null,
      "outputs": [
        {
          "output_type": "execute_result",
          "data": {
            "text/plain": [
              "                              cuenta     partido   timestamp  \\\n",
              "0   a34133350b0605cb24081843f63176ca        psoe  1363973492   \n",
              "1   a34133350b0605cb24081843f63176ca        psoe  1364061035   \n",
              "2   a34133350b0605cb24081843f63176ca        psoe  1364116804   \n",
              "3   a34133350b0605cb24081843f63176ca        psoe  1364120967   \n",
              "4   a34133350b0605cb24081843f63176ca        psoe  1364152692   \n",
              "..                               ...         ...         ...   \n",
              "94  8c926e81af138f29b2b39b83d7551e0b  ciudadanos  1504816373   \n",
              "95  b2c8bc25ba1bc91cee7acfcc0f690444        psoe  1506155538   \n",
              "96  b2c8bc25ba1bc91cee7acfcc0f690444        psoe  1507097500   \n",
              "97  b2c8bc25ba1bc91cee7acfcc0f690444        psoe  1507279702   \n",
              "98  b2c8bc25ba1bc91cee7acfcc0f690444        psoe  1507279869   \n",
              "\n",
              "                                                tweet  \\\n",
              "0   @vesteve3 @manubenas @ccoo_rm @desobediencia_ ...   \n",
              "1   “@kirovast: @Hugo_Moran muy fan de la \"radical...   \n",
              "2   @ALTAS_PRESIONES Nuevos dueños para las renova...   \n",
              "3   @jumanjisolar @solartradex @josea_dolera El di...   \n",
              "4   “@cesarnayu: https://t.co/J4OTXj1x7w … Por fav...   \n",
              "..                                                ...   \n",
              "94         #NuevaFotoDePerfil https://t.co/onZQVOxzvq   \n",
              "95  Todos los estudios lo corroboran.Andalucia ent...   \n",
              "96  Ganar a los independentistas; por Alfredo Pére...   \n",
              "97  Hernando (PP) en vez de venir a Andalucía con ...   \n",
              "98  La culpa de que el PP nacional tenga una image...   \n",
              "\n",
              "                                              English  \n",
              "0   @vesteve3 @manubenas @ccoo_rm @desobediencia_ ...  \n",
              "1   “@kirovast: @Hugo_Moran a big fan of \"social r...  \n",
              "2   @ALTAS_PRESIONES New owners for renewables. At...  \n",
              "3   @jumanjisolar @solartradex @josea_dolera The e...  \n",
              "4   “@cesarnayu: https://t.co/J4OTXj1x7w … Please,...  \n",
              "..                                                ...  \n",
              "94           #NewProfilePhoto https://t.co/onZQVOxzvq  \n",
              "95  All the studies corroborate it. Andalusia amon...  \n",
              "96  Win the independentistas; by Alfredo Pérez Rub...  \n",
              "97  Hernando (PP) instead of coming to Andalusia w...  \n",
              "98  The blame for the fact that the national PP ha...  \n",
              "\n",
              "[99 rows x 5 columns]"
            ],
            "text/html": [
              "\n",
              "  <div id=\"df-3b72c207-84cb-4e5e-9c60-1d9996af8431\">\n",
              "    <div class=\"colab-df-container\">\n",
              "      <div>\n",
              "<style scoped>\n",
              "    .dataframe tbody tr th:only-of-type {\n",
              "        vertical-align: middle;\n",
              "    }\n",
              "\n",
              "    .dataframe tbody tr th {\n",
              "        vertical-align: top;\n",
              "    }\n",
              "\n",
              "    .dataframe thead th {\n",
              "        text-align: right;\n",
              "    }\n",
              "</style>\n",
              "<table border=\"1\" class=\"dataframe\">\n",
              "  <thead>\n",
              "    <tr style=\"text-align: right;\">\n",
              "      <th></th>\n",
              "      <th>cuenta</th>\n",
              "      <th>partido</th>\n",
              "      <th>timestamp</th>\n",
              "      <th>tweet</th>\n",
              "      <th>English</th>\n",
              "    </tr>\n",
              "  </thead>\n",
              "  <tbody>\n",
              "    <tr>\n",
              "      <th>0</th>\n",
              "      <td>a34133350b0605cb24081843f63176ca</td>\n",
              "      <td>psoe</td>\n",
              "      <td>1363973492</td>\n",
              "      <td>@vesteve3 @manubenas @ccoo_rm @desobediencia_ ...</td>\n",
              "      <td>@vesteve3 @manubenas @ccoo_rm @desobediencia_ ...</td>\n",
              "    </tr>\n",
              "    <tr>\n",
              "      <th>1</th>\n",
              "      <td>a34133350b0605cb24081843f63176ca</td>\n",
              "      <td>psoe</td>\n",
              "      <td>1364061035</td>\n",
              "      <td>“@kirovast: @Hugo_Moran muy fan de la \"radical...</td>\n",
              "      <td>“@kirovast: @Hugo_Moran a big fan of \"social r...</td>\n",
              "    </tr>\n",
              "    <tr>\n",
              "      <th>2</th>\n",
              "      <td>a34133350b0605cb24081843f63176ca</td>\n",
              "      <td>psoe</td>\n",
              "      <td>1364116804</td>\n",
              "      <td>@ALTAS_PRESIONES Nuevos dueños para las renova...</td>\n",
              "      <td>@ALTAS_PRESIONES New owners for renewables. At...</td>\n",
              "    </tr>\n",
              "    <tr>\n",
              "      <th>3</th>\n",
              "      <td>a34133350b0605cb24081843f63176ca</td>\n",
              "      <td>psoe</td>\n",
              "      <td>1364120967</td>\n",
              "      <td>@jumanjisolar @solartradex @josea_dolera El di...</td>\n",
              "      <td>@jumanjisolar @solartradex @josea_dolera The e...</td>\n",
              "    </tr>\n",
              "    <tr>\n",
              "      <th>4</th>\n",
              "      <td>a34133350b0605cb24081843f63176ca</td>\n",
              "      <td>psoe</td>\n",
              "      <td>1364152692</td>\n",
              "      <td>“@cesarnayu: https://t.co/J4OTXj1x7w … Por fav...</td>\n",
              "      <td>“@cesarnayu: https://t.co/J4OTXj1x7w … Please,...</td>\n",
              "    </tr>\n",
              "    <tr>\n",
              "      <th>...</th>\n",
              "      <td>...</td>\n",
              "      <td>...</td>\n",
              "      <td>...</td>\n",
              "      <td>...</td>\n",
              "      <td>...</td>\n",
              "    </tr>\n",
              "    <tr>\n",
              "      <th>94</th>\n",
              "      <td>8c926e81af138f29b2b39b83d7551e0b</td>\n",
              "      <td>ciudadanos</td>\n",
              "      <td>1504816373</td>\n",
              "      <td>#NuevaFotoDePerfil https://t.co/onZQVOxzvq</td>\n",
              "      <td>#NewProfilePhoto https://t.co/onZQVOxzvq</td>\n",
              "    </tr>\n",
              "    <tr>\n",
              "      <th>95</th>\n",
              "      <td>b2c8bc25ba1bc91cee7acfcc0f690444</td>\n",
              "      <td>psoe</td>\n",
              "      <td>1506155538</td>\n",
              "      <td>Todos los estudios lo corroboran.Andalucia ent...</td>\n",
              "      <td>All the studies corroborate it. Andalusia amon...</td>\n",
              "    </tr>\n",
              "    <tr>\n",
              "      <th>96</th>\n",
              "      <td>b2c8bc25ba1bc91cee7acfcc0f690444</td>\n",
              "      <td>psoe</td>\n",
              "      <td>1507097500</td>\n",
              "      <td>Ganar a los independentistas; por Alfredo Pére...</td>\n",
              "      <td>Win the independentistas; by Alfredo Pérez Rub...</td>\n",
              "    </tr>\n",
              "    <tr>\n",
              "      <th>97</th>\n",
              "      <td>b2c8bc25ba1bc91cee7acfcc0f690444</td>\n",
              "      <td>psoe</td>\n",
              "      <td>1507279702</td>\n",
              "      <td>Hernando (PP) en vez de venir a Andalucía con ...</td>\n",
              "      <td>Hernando (PP) instead of coming to Andalusia w...</td>\n",
              "    </tr>\n",
              "    <tr>\n",
              "      <th>98</th>\n",
              "      <td>b2c8bc25ba1bc91cee7acfcc0f690444</td>\n",
              "      <td>psoe</td>\n",
              "      <td>1507279869</td>\n",
              "      <td>La culpa de que el PP nacional tenga una image...</td>\n",
              "      <td>The blame for the fact that the national PP ha...</td>\n",
              "    </tr>\n",
              "  </tbody>\n",
              "</table>\n",
              "<p>99 rows × 5 columns</p>\n",
              "</div>\n",
              "      <button class=\"colab-df-convert\" onclick=\"convertToInteractive('df-3b72c207-84cb-4e5e-9c60-1d9996af8431')\"\n",
              "              title=\"Convert this dataframe to an interactive table.\"\n",
              "              style=\"display:none;\">\n",
              "        \n",
              "  <svg xmlns=\"http://www.w3.org/2000/svg\" height=\"24px\"viewBox=\"0 0 24 24\"\n",
              "       width=\"24px\">\n",
              "    <path d=\"M0 0h24v24H0V0z\" fill=\"none\"/>\n",
              "    <path d=\"M18.56 5.44l.94 2.06.94-2.06 2.06-.94-2.06-.94-.94-2.06-.94 2.06-2.06.94zm-11 1L8.5 8.5l.94-2.06 2.06-.94-2.06-.94L8.5 2.5l-.94 2.06-2.06.94zm10 10l.94 2.06.94-2.06 2.06-.94-2.06-.94-.94-2.06-.94 2.06-2.06.94z\"/><path d=\"M17.41 7.96l-1.37-1.37c-.4-.4-.92-.59-1.43-.59-.52 0-1.04.2-1.43.59L10.3 9.45l-7.72 7.72c-.78.78-.78 2.05 0 2.83L4 21.41c.39.39.9.59 1.41.59.51 0 1.02-.2 1.41-.59l7.78-7.78 2.81-2.81c.8-.78.8-2.07 0-2.86zM5.41 20L4 18.59l7.72-7.72 1.47 1.35L5.41 20z\"/>\n",
              "  </svg>\n",
              "      </button>\n",
              "      \n",
              "  <style>\n",
              "    .colab-df-container {\n",
              "      display:flex;\n",
              "      flex-wrap:wrap;\n",
              "      gap: 12px;\n",
              "    }\n",
              "\n",
              "    .colab-df-convert {\n",
              "      background-color: #E8F0FE;\n",
              "      border: none;\n",
              "      border-radius: 50%;\n",
              "      cursor: pointer;\n",
              "      display: none;\n",
              "      fill: #1967D2;\n",
              "      height: 32px;\n",
              "      padding: 0 0 0 0;\n",
              "      width: 32px;\n",
              "    }\n",
              "\n",
              "    .colab-df-convert:hover {\n",
              "      background-color: #E2EBFA;\n",
              "      box-shadow: 0px 1px 2px rgba(60, 64, 67, 0.3), 0px 1px 3px 1px rgba(60, 64, 67, 0.15);\n",
              "      fill: #174EA6;\n",
              "    }\n",
              "\n",
              "    [theme=dark] .colab-df-convert {\n",
              "      background-color: #3B4455;\n",
              "      fill: #D2E3FC;\n",
              "    }\n",
              "\n",
              "    [theme=dark] .colab-df-convert:hover {\n",
              "      background-color: #434B5C;\n",
              "      box-shadow: 0px 1px 3px 1px rgba(0, 0, 0, 0.15);\n",
              "      filter: drop-shadow(0px 1px 2px rgba(0, 0, 0, 0.3));\n",
              "      fill: #FFFFFF;\n",
              "    }\n",
              "  </style>\n",
              "\n",
              "      <script>\n",
              "        const buttonEl =\n",
              "          document.querySelector('#df-3b72c207-84cb-4e5e-9c60-1d9996af8431 button.colab-df-convert');\n",
              "        buttonEl.style.display =\n",
              "          google.colab.kernel.accessAllowed ? 'block' : 'none';\n",
              "\n",
              "        async function convertToInteractive(key) {\n",
              "          const element = document.querySelector('#df-3b72c207-84cb-4e5e-9c60-1d9996af8431');\n",
              "          const dataTable =\n",
              "            await google.colab.kernel.invokeFunction('convertToInteractive',\n",
              "                                                     [key], {});\n",
              "          if (!dataTable) return;\n",
              "\n",
              "          const docLinkHtml = 'Like what you see? Visit the ' +\n",
              "            '<a target=\"_blank\" href=https://colab.research.google.com/notebooks/data_table.ipynb>data table notebook</a>'\n",
              "            + ' to learn more about interactive tables.';\n",
              "          element.innerHTML = '';\n",
              "          dataTable['output_type'] = 'display_data';\n",
              "          await google.colab.output.renderOutput(dataTable, element);\n",
              "          const docLink = document.createElement('div');\n",
              "          docLink.innerHTML = docLinkHtml;\n",
              "          element.appendChild(docLink);\n",
              "        }\n",
              "      </script>\n",
              "    </div>\n",
              "  </div>\n",
              "  "
            ]
          },
          "metadata": {},
          "execution_count": 217
        }
      ]
    },
    {
      "cell_type": "code",
      "source": [
        "df['English'] = df['English'].str.lower()\n",
        "df['English']"
      ],
      "metadata": {
        "colab": {
          "base_uri": "https://localhost:8080/"
        },
        "id": "a13pvZ0KEEhl",
        "outputId": "ffa063b4-5334-43d9-ed67-a420f2c04071"
      },
      "execution_count": null,
      "outputs": [
        {
          "output_type": "execute_result",
          "data": {
            "text/plain": [
              "0     @vesteve3 @manubenas @ccoo_rm @desobediencia_ ...\n",
              "1     “@kirovast: @hugo_moran a big fan of \"social r...\n",
              "2     @altas_presiones new owners for renewables. at...\n",
              "3     @jumanjisolar @solartradex @josea_dolera the e...\n",
              "4     “@cesarnayu: https://t.co/j4otxj1x7w … please,...\n",
              "                            ...                        \n",
              "94             #newprofilephoto https://t.co/onzqvoxzvq\n",
              "95    all the studies corroborate it. andalusia amon...\n",
              "96    win the independentistas; by alfredo pérez rub...\n",
              "97    hernando (pp) instead of coming to andalusia w...\n",
              "98    the blame for the fact that the national pp ha...\n",
              "Name: English, Length: 99, dtype: object"
            ]
          },
          "metadata": {},
          "execution_count": 218
        }
      ]
    },
    {
      "cell_type": "markdown",
      "source": [
        "Data Pre-Processing"
      ],
      "metadata": {
        "id": "bvn1ZaeaPvVR"
      }
    },
    {
      "cell_type": "code",
      "source": [
        "import numpy as np\n",
        "import pandas as pd\n",
        "import matplotlib.pyplot as plt\n",
        "import seaborn as sns\n",
        "import re\n",
        "import nltk\n",
        "nltk.download('stopwords')\n",
        "nltk.download('punkt')\n",
        "from nltk.corpus import stopwords\n",
        "from nltk.stem.porter import PorterStemmer\n",
        "from tqdm import tqdm"
      ],
      "metadata": {
        "id": "CSRNj9VpEejJ",
        "colab": {
          "base_uri": "https://localhost:8080/"
        },
        "outputId": "1d0fac5c-aaa1-4f01-ce77-b57bdb6fed3c"
      },
      "execution_count": null,
      "outputs": [
        {
          "output_type": "stream",
          "name": "stderr",
          "text": [
            "[nltk_data] Downloading package stopwords to /root/nltk_data...\n",
            "[nltk_data]   Package stopwords is already up-to-date!\n",
            "[nltk_data] Downloading package punkt to /root/nltk_data...\n",
            "[nltk_data]   Package punkt is already up-to-date!\n"
          ]
        }
      ]
    },
    {
      "cell_type": "code",
      "source": [
        "df.isnull().sum()"
      ],
      "metadata": {
        "colab": {
          "base_uri": "https://localhost:8080/"
        },
        "id": "MxkYE_gczMw2",
        "outputId": "68d26bfe-6045-46fb-c9e1-7e2cb5974774"
      },
      "execution_count": null,
      "outputs": [
        {
          "output_type": "execute_result",
          "data": {
            "text/plain": [
              "cuenta       0\n",
              "partido      0\n",
              "timestamp    0\n",
              "tweet        0\n",
              "English      0\n",
              "dtype: int64"
            ]
          },
          "metadata": {},
          "execution_count": 220
        }
      ]
    },
    {
      "cell_type": "markdown",
      "source": [
        "Removing urls"
      ],
      "metadata": {
        "id": "voWrTsxqmzxP"
      }
    },
    {
      "cell_type": "code",
      "source": [
        "import re\n",
        "def clean_reviews(text):\n",
        "  text = re.sub(r'@[A-Za-z0-9]+','',text)\n",
        "  text = re.sub(r'#','',text)\n",
        "  text = re.sub(r'RT[\\s]+','',text)\n",
        "  text = re.sub(r'https?:\\/\\/\\S+','',text)\n",
        "  text = re.sub(r'[^\\w\\s]','',text)\n",
        "  return text\n",
        "\n",
        "df['English'] = df['English'].apply(clean_reviews)\n",
        "df.head()"
      ],
      "metadata": {
        "colab": {
          "base_uri": "https://localhost:8080/",
          "height": 206
        },
        "id": "QouK9aW1EkJK",
        "outputId": "34e4c581-c7fd-4c18-e259-7a6a7b47b152"
      },
      "execution_count": null,
      "outputs": [
        {
          "output_type": "execute_result",
          "data": {
            "text/plain": [
              "                             cuenta partido   timestamp  \\\n",
              "0  a34133350b0605cb24081843f63176ca    psoe  1363973492   \n",
              "1  a34133350b0605cb24081843f63176ca    psoe  1364061035   \n",
              "2  a34133350b0605cb24081843f63176ca    psoe  1364116804   \n",
              "3  a34133350b0605cb24081843f63176ca    psoe  1364120967   \n",
              "4  a34133350b0605cb24081843f63176ca    psoe  1364152692   \n",
              "\n",
              "                                               tweet  \\\n",
              "0  @vesteve3 @manubenas @ccoo_rm @desobediencia_ ...   \n",
              "1  “@kirovast: @Hugo_Moran muy fan de la \"radical...   \n",
              "2  @ALTAS_PRESIONES Nuevos dueños para las renova...   \n",
              "3  @jumanjisolar @solartradex @josea_dolera El di...   \n",
              "4  “@cesarnayu: https://t.co/J4OTXj1x7w … Por fav...   \n",
              "\n",
              "                                             English  \n",
              "0    _rm _   good cheer for this spring that we a...  \n",
              "1   _moran a big fan of social radicalism in the ...  \n",
              "2  _presiones new owners for renewables at that t...  \n",
              "3    _dolera the energy price differential with g...  \n",
              "4     please it is important to spread this messa...  "
            ],
            "text/html": [
              "\n",
              "  <div id=\"df-f78a9086-5d62-4e18-bdb3-27d982053412\">\n",
              "    <div class=\"colab-df-container\">\n",
              "      <div>\n",
              "<style scoped>\n",
              "    .dataframe tbody tr th:only-of-type {\n",
              "        vertical-align: middle;\n",
              "    }\n",
              "\n",
              "    .dataframe tbody tr th {\n",
              "        vertical-align: top;\n",
              "    }\n",
              "\n",
              "    .dataframe thead th {\n",
              "        text-align: right;\n",
              "    }\n",
              "</style>\n",
              "<table border=\"1\" class=\"dataframe\">\n",
              "  <thead>\n",
              "    <tr style=\"text-align: right;\">\n",
              "      <th></th>\n",
              "      <th>cuenta</th>\n",
              "      <th>partido</th>\n",
              "      <th>timestamp</th>\n",
              "      <th>tweet</th>\n",
              "      <th>English</th>\n",
              "    </tr>\n",
              "  </thead>\n",
              "  <tbody>\n",
              "    <tr>\n",
              "      <th>0</th>\n",
              "      <td>a34133350b0605cb24081843f63176ca</td>\n",
              "      <td>psoe</td>\n",
              "      <td>1363973492</td>\n",
              "      <td>@vesteve3 @manubenas @ccoo_rm @desobediencia_ ...</td>\n",
              "      <td>_rm _   good cheer for this spring that we a...</td>\n",
              "    </tr>\n",
              "    <tr>\n",
              "      <th>1</th>\n",
              "      <td>a34133350b0605cb24081843f63176ca</td>\n",
              "      <td>psoe</td>\n",
              "      <td>1364061035</td>\n",
              "      <td>“@kirovast: @Hugo_Moran muy fan de la \"radical...</td>\n",
              "      <td>_moran a big fan of social radicalism in the ...</td>\n",
              "    </tr>\n",
              "    <tr>\n",
              "      <th>2</th>\n",
              "      <td>a34133350b0605cb24081843f63176ca</td>\n",
              "      <td>psoe</td>\n",
              "      <td>1364116804</td>\n",
              "      <td>@ALTAS_PRESIONES Nuevos dueños para las renova...</td>\n",
              "      <td>_presiones new owners for renewables at that t...</td>\n",
              "    </tr>\n",
              "    <tr>\n",
              "      <th>3</th>\n",
              "      <td>a34133350b0605cb24081843f63176ca</td>\n",
              "      <td>psoe</td>\n",
              "      <td>1364120967</td>\n",
              "      <td>@jumanjisolar @solartradex @josea_dolera El di...</td>\n",
              "      <td>_dolera the energy price differential with g...</td>\n",
              "    </tr>\n",
              "    <tr>\n",
              "      <th>4</th>\n",
              "      <td>a34133350b0605cb24081843f63176ca</td>\n",
              "      <td>psoe</td>\n",
              "      <td>1364152692</td>\n",
              "      <td>“@cesarnayu: https://t.co/J4OTXj1x7w … Por fav...</td>\n",
              "      <td>please it is important to spread this messa...</td>\n",
              "    </tr>\n",
              "  </tbody>\n",
              "</table>\n",
              "</div>\n",
              "      <button class=\"colab-df-convert\" onclick=\"convertToInteractive('df-f78a9086-5d62-4e18-bdb3-27d982053412')\"\n",
              "              title=\"Convert this dataframe to an interactive table.\"\n",
              "              style=\"display:none;\">\n",
              "        \n",
              "  <svg xmlns=\"http://www.w3.org/2000/svg\" height=\"24px\"viewBox=\"0 0 24 24\"\n",
              "       width=\"24px\">\n",
              "    <path d=\"M0 0h24v24H0V0z\" fill=\"none\"/>\n",
              "    <path d=\"M18.56 5.44l.94 2.06.94-2.06 2.06-.94-2.06-.94-.94-2.06-.94 2.06-2.06.94zm-11 1L8.5 8.5l.94-2.06 2.06-.94-2.06-.94L8.5 2.5l-.94 2.06-2.06.94zm10 10l.94 2.06.94-2.06 2.06-.94-2.06-.94-.94-2.06-.94 2.06-2.06.94z\"/><path d=\"M17.41 7.96l-1.37-1.37c-.4-.4-.92-.59-1.43-.59-.52 0-1.04.2-1.43.59L10.3 9.45l-7.72 7.72c-.78.78-.78 2.05 0 2.83L4 21.41c.39.39.9.59 1.41.59.51 0 1.02-.2 1.41-.59l7.78-7.78 2.81-2.81c.8-.78.8-2.07 0-2.86zM5.41 20L4 18.59l7.72-7.72 1.47 1.35L5.41 20z\"/>\n",
              "  </svg>\n",
              "      </button>\n",
              "      \n",
              "  <style>\n",
              "    .colab-df-container {\n",
              "      display:flex;\n",
              "      flex-wrap:wrap;\n",
              "      gap: 12px;\n",
              "    }\n",
              "\n",
              "    .colab-df-convert {\n",
              "      background-color: #E8F0FE;\n",
              "      border: none;\n",
              "      border-radius: 50%;\n",
              "      cursor: pointer;\n",
              "      display: none;\n",
              "      fill: #1967D2;\n",
              "      height: 32px;\n",
              "      padding: 0 0 0 0;\n",
              "      width: 32px;\n",
              "    }\n",
              "\n",
              "    .colab-df-convert:hover {\n",
              "      background-color: #E2EBFA;\n",
              "      box-shadow: 0px 1px 2px rgba(60, 64, 67, 0.3), 0px 1px 3px 1px rgba(60, 64, 67, 0.15);\n",
              "      fill: #174EA6;\n",
              "    }\n",
              "\n",
              "    [theme=dark] .colab-df-convert {\n",
              "      background-color: #3B4455;\n",
              "      fill: #D2E3FC;\n",
              "    }\n",
              "\n",
              "    [theme=dark] .colab-df-convert:hover {\n",
              "      background-color: #434B5C;\n",
              "      box-shadow: 0px 1px 3px 1px rgba(0, 0, 0, 0.15);\n",
              "      filter: drop-shadow(0px 1px 2px rgba(0, 0, 0, 0.3));\n",
              "      fill: #FFFFFF;\n",
              "    }\n",
              "  </style>\n",
              "\n",
              "      <script>\n",
              "        const buttonEl =\n",
              "          document.querySelector('#df-f78a9086-5d62-4e18-bdb3-27d982053412 button.colab-df-convert');\n",
              "        buttonEl.style.display =\n",
              "          google.colab.kernel.accessAllowed ? 'block' : 'none';\n",
              "\n",
              "        async function convertToInteractive(key) {\n",
              "          const element = document.querySelector('#df-f78a9086-5d62-4e18-bdb3-27d982053412');\n",
              "          const dataTable =\n",
              "            await google.colab.kernel.invokeFunction('convertToInteractive',\n",
              "                                                     [key], {});\n",
              "          if (!dataTable) return;\n",
              "\n",
              "          const docLinkHtml = 'Like what you see? Visit the ' +\n",
              "            '<a target=\"_blank\" href=https://colab.research.google.com/notebooks/data_table.ipynb>data table notebook</a>'\n",
              "            + ' to learn more about interactive tables.';\n",
              "          element.innerHTML = '';\n",
              "          dataTable['output_type'] = 'display_data';\n",
              "          await google.colab.output.renderOutput(dataTable, element);\n",
              "          const docLink = document.createElement('div');\n",
              "          docLink.innerHTML = docLinkHtml;\n",
              "          element.appendChild(docLink);\n",
              "        }\n",
              "      </script>\n",
              "    </div>\n",
              "  </div>\n",
              "  "
            ]
          },
          "metadata": {},
          "execution_count": 221
        }
      ]
    },
    {
      "cell_type": "code",
      "source": [
        "df['English'] = df['English'].apply(lambda x: x.split())"
      ],
      "metadata": {
        "id": "Hk5d6mca07E-"
      },
      "execution_count": null,
      "outputs": []
    },
    {
      "cell_type": "code",
      "source": [
        "import spacy\n",
        "en = spacy.load('en_core_web_sm')\n",
        "stopwords = en.Defaults.stop_words"
      ],
      "metadata": {
        "id": "eGMQV_IZ1Xas"
      },
      "execution_count": null,
      "outputs": []
    },
    {
      "cell_type": "code",
      "source": [
        "df['English'] = df['English'].apply(lambda sentence: [word for word in sentence if word not in stopwords])\n",
        "df['English'].head()"
      ],
      "metadata": {
        "colab": {
          "base_uri": "https://localhost:8080/"
        },
        "id": "22G7vvA11j5Y",
        "outputId": "9c34cbdd-547b-41d6-fbee-84751d595ba3"
      },
      "execution_count": null,
      "outputs": [
        {
          "output_type": "execute_result",
          "data": {
            "text/plain": [
              "0              [_rm, _, good, cheer, spring, starting]\n",
              "1    [_moran, big, fan, social, radicalism, face, d...\n",
              "2    [_presiones, new, owners, renewables, time, lo...\n",
              "3    [_dolera, energy, price, differential, germany...\n",
              "4    [important, spread, message, raise, awareness,...\n",
              "Name: English, dtype: object"
            ]
          },
          "metadata": {},
          "execution_count": 224
        }
      ]
    },
    {
      "cell_type": "code",
      "source": [
        "stemmer = PorterStemmer()\n",
        "df['English'] = df['English'].apply(lambda sentence: [stemmer.stem(word) for word in sentence])\n",
        "df['English'].head()"
      ],
      "metadata": {
        "colab": {
          "base_uri": "https://localhost:8080/"
        },
        "id": "gtlKOEZH2N89",
        "outputId": "f018a5fd-b3c3-401b-9400-6632f750dc74"
      },
      "execution_count": null,
      "outputs": [
        {
          "output_type": "execute_result",
          "data": {
            "text/plain": [
              "0                 [_rm, _, good, cheer, spring, start]\n",
              "1    [_moran, big, fan, social, radic, face, democr...\n",
              "2    [_presion, new, owner, renew, time, longer, pr...\n",
              "3    [_dolera, energi, price, differenti, germani, ...\n",
              "4        [import, spread, messag, rais, awar, retweet]\n",
              "Name: English, dtype: object"
            ]
          },
          "metadata": {},
          "execution_count": 225
        }
      ]
    },
    {
      "cell_type": "code",
      "source": [
        "import nltk\n",
        "nltk.download('wordnet')"
      ],
      "metadata": {
        "colab": {
          "base_uri": "https://localhost:8080/"
        },
        "id": "xPohJTpm-Yep",
        "outputId": "3d1c4505-a2f0-4675-ed92-27456f718690"
      },
      "execution_count": null,
      "outputs": [
        {
          "output_type": "stream",
          "name": "stderr",
          "text": [
            "[nltk_data] Downloading package wordnet to /root/nltk_data...\n",
            "[nltk_data]   Package wordnet is already up-to-date!\n"
          ]
        },
        {
          "output_type": "execute_result",
          "data": {
            "text/plain": [
              "True"
            ]
          },
          "metadata": {},
          "execution_count": 226
        }
      ]
    },
    {
      "cell_type": "code",
      "source": [
        "import nltk\n",
        "nltk.download('omw-1.4')"
      ],
      "metadata": {
        "colab": {
          "base_uri": "https://localhost:8080/"
        },
        "id": "WnxdBiWQ-hUK",
        "outputId": "09f14cbc-21be-4c70-8fd5-f8ae07bb07e1"
      },
      "execution_count": null,
      "outputs": [
        {
          "output_type": "stream",
          "name": "stderr",
          "text": [
            "[nltk_data] Downloading package omw-1.4 to /root/nltk_data...\n",
            "[nltk_data]   Package omw-1.4 is already up-to-date!\n"
          ]
        },
        {
          "output_type": "execute_result",
          "data": {
            "text/plain": [
              "True"
            ]
          },
          "metadata": {},
          "execution_count": 227
        }
      ]
    },
    {
      "cell_type": "code",
      "source": [
        "from nltk.stem import WordNetLemmatizer\n",
        "def lematize(review):\n",
        "    lemmatizer = WordNetLemmatizer()\n",
        "    review = [lemmatizer.lemmatize(w) for w in review]\n",
        "    review = ' '.join(review)\n",
        "    return review"
      ],
      "metadata": {
        "id": "BagutWdo5lUz"
      },
      "execution_count": null,
      "outputs": []
    },
    {
      "cell_type": "code",
      "source": [
        "df['English'] = df['English'].apply(lematize)\n",
        "df"
      ],
      "metadata": {
        "colab": {
          "base_uri": "https://localhost:8080/"
        },
        "id": "S-j-ZVvTgseA",
        "outputId": "f61bf9b9-93aa-411d-85bc-68313de8b700"
      },
      "execution_count": null,
      "outputs": [
        {
          "output_type": "execute_result",
          "data": {
            "text/plain": [
              "                              cuenta     partido   timestamp  \\\n",
              "0   a34133350b0605cb24081843f63176ca        psoe  1363973492   \n",
              "1   a34133350b0605cb24081843f63176ca        psoe  1364061035   \n",
              "2   a34133350b0605cb24081843f63176ca        psoe  1364116804   \n",
              "3   a34133350b0605cb24081843f63176ca        psoe  1364120967   \n",
              "4   a34133350b0605cb24081843f63176ca        psoe  1364152692   \n",
              "..                               ...         ...         ...   \n",
              "94  8c926e81af138f29b2b39b83d7551e0b  ciudadanos  1504816373   \n",
              "95  b2c8bc25ba1bc91cee7acfcc0f690444        psoe  1506155538   \n",
              "96  b2c8bc25ba1bc91cee7acfcc0f690444        psoe  1507097500   \n",
              "97  b2c8bc25ba1bc91cee7acfcc0f690444        psoe  1507279702   \n",
              "98  b2c8bc25ba1bc91cee7acfcc0f690444        psoe  1507279869   \n",
              "\n",
              "                                                tweet  \\\n",
              "0   @vesteve3 @manubenas @ccoo_rm @desobediencia_ ...   \n",
              "1   “@kirovast: @Hugo_Moran muy fan de la \"radical...   \n",
              "2   @ALTAS_PRESIONES Nuevos dueños para las renova...   \n",
              "3   @jumanjisolar @solartradex @josea_dolera El di...   \n",
              "4   “@cesarnayu: https://t.co/J4OTXj1x7w … Por fav...   \n",
              "..                                                ...   \n",
              "94         #NuevaFotoDePerfil https://t.co/onZQVOxzvq   \n",
              "95  Todos los estudios lo corroboran.Andalucia ent...   \n",
              "96  Ganar a los independentistas; por Alfredo Pére...   \n",
              "97  Hernando (PP) en vez de venir a Andalucía con ...   \n",
              "98  La culpa de que el PP nacional tenga una image...   \n",
              "\n",
              "                                              English  \n",
              "0                       _rm _ good cheer spring start  \n",
              "1    _moran big fan social radic face democrat devalu  \n",
              "2   _presion new owner renew time longer problem m...  \n",
              "3   _dolera energi price differenti germani franc ...  \n",
              "4              import spread messag rais awar retweet  \n",
              "..                                                ...  \n",
              "94                                    newprofilephoto  \n",
              "95     studi corrobor andalusia worst financ look way  \n",
              "96  win independentista alfredo pérez rubalcaba _r...  \n",
              "97  hernando pp instead come andalusia employ plan...  \n",
              "98  blame fact nation pp imag dirt barrack andalus...  \n",
              "\n",
              "[99 rows x 5 columns]"
            ],
            "text/html": [
              "\n",
              "  <div id=\"df-96a114ca-2217-42d1-bf11-ba1c22156424\">\n",
              "    <div class=\"colab-df-container\">\n",
              "      <div>\n",
              "<style scoped>\n",
              "    .dataframe tbody tr th:only-of-type {\n",
              "        vertical-align: middle;\n",
              "    }\n",
              "\n",
              "    .dataframe tbody tr th {\n",
              "        vertical-align: top;\n",
              "    }\n",
              "\n",
              "    .dataframe thead th {\n",
              "        text-align: right;\n",
              "    }\n",
              "</style>\n",
              "<table border=\"1\" class=\"dataframe\">\n",
              "  <thead>\n",
              "    <tr style=\"text-align: right;\">\n",
              "      <th></th>\n",
              "      <th>cuenta</th>\n",
              "      <th>partido</th>\n",
              "      <th>timestamp</th>\n",
              "      <th>tweet</th>\n",
              "      <th>English</th>\n",
              "    </tr>\n",
              "  </thead>\n",
              "  <tbody>\n",
              "    <tr>\n",
              "      <th>0</th>\n",
              "      <td>a34133350b0605cb24081843f63176ca</td>\n",
              "      <td>psoe</td>\n",
              "      <td>1363973492</td>\n",
              "      <td>@vesteve3 @manubenas @ccoo_rm @desobediencia_ ...</td>\n",
              "      <td>_rm _ good cheer spring start</td>\n",
              "    </tr>\n",
              "    <tr>\n",
              "      <th>1</th>\n",
              "      <td>a34133350b0605cb24081843f63176ca</td>\n",
              "      <td>psoe</td>\n",
              "      <td>1364061035</td>\n",
              "      <td>“@kirovast: @Hugo_Moran muy fan de la \"radical...</td>\n",
              "      <td>_moran big fan social radic face democrat devalu</td>\n",
              "    </tr>\n",
              "    <tr>\n",
              "      <th>2</th>\n",
              "      <td>a34133350b0605cb24081843f63176ca</td>\n",
              "      <td>psoe</td>\n",
              "      <td>1364116804</td>\n",
              "      <td>@ALTAS_PRESIONES Nuevos dueños para las renova...</td>\n",
              "      <td>_presion new owner renew time longer problem m...</td>\n",
              "    </tr>\n",
              "    <tr>\n",
              "      <th>3</th>\n",
              "      <td>a34133350b0605cb24081843f63176ca</td>\n",
              "      <td>psoe</td>\n",
              "      <td>1364120967</td>\n",
              "      <td>@jumanjisolar @solartradex @josea_dolera El di...</td>\n",
              "      <td>_dolera energi price differenti germani franc ...</td>\n",
              "    </tr>\n",
              "    <tr>\n",
              "      <th>4</th>\n",
              "      <td>a34133350b0605cb24081843f63176ca</td>\n",
              "      <td>psoe</td>\n",
              "      <td>1364152692</td>\n",
              "      <td>“@cesarnayu: https://t.co/J4OTXj1x7w … Por fav...</td>\n",
              "      <td>import spread messag rais awar retweet</td>\n",
              "    </tr>\n",
              "    <tr>\n",
              "      <th>...</th>\n",
              "      <td>...</td>\n",
              "      <td>...</td>\n",
              "      <td>...</td>\n",
              "      <td>...</td>\n",
              "      <td>...</td>\n",
              "    </tr>\n",
              "    <tr>\n",
              "      <th>94</th>\n",
              "      <td>8c926e81af138f29b2b39b83d7551e0b</td>\n",
              "      <td>ciudadanos</td>\n",
              "      <td>1504816373</td>\n",
              "      <td>#NuevaFotoDePerfil https://t.co/onZQVOxzvq</td>\n",
              "      <td>newprofilephoto</td>\n",
              "    </tr>\n",
              "    <tr>\n",
              "      <th>95</th>\n",
              "      <td>b2c8bc25ba1bc91cee7acfcc0f690444</td>\n",
              "      <td>psoe</td>\n",
              "      <td>1506155538</td>\n",
              "      <td>Todos los estudios lo corroboran.Andalucia ent...</td>\n",
              "      <td>studi corrobor andalusia worst financ look way</td>\n",
              "    </tr>\n",
              "    <tr>\n",
              "      <th>96</th>\n",
              "      <td>b2c8bc25ba1bc91cee7acfcc0f690444</td>\n",
              "      <td>psoe</td>\n",
              "      <td>1507097500</td>\n",
              "      <td>Ganar a los independentistas; por Alfredo Pére...</td>\n",
              "      <td>win independentista alfredo pérez rubalcaba _r...</td>\n",
              "    </tr>\n",
              "    <tr>\n",
              "      <th>97</th>\n",
              "      <td>b2c8bc25ba1bc91cee7acfcc0f690444</td>\n",
              "      <td>psoe</td>\n",
              "      <td>1507279702</td>\n",
              "      <td>Hernando (PP) en vez de venir a Andalucía con ...</td>\n",
              "      <td>hernando pp instead come andalusia employ plan...</td>\n",
              "    </tr>\n",
              "    <tr>\n",
              "      <th>98</th>\n",
              "      <td>b2c8bc25ba1bc91cee7acfcc0f690444</td>\n",
              "      <td>psoe</td>\n",
              "      <td>1507279869</td>\n",
              "      <td>La culpa de que el PP nacional tenga una image...</td>\n",
              "      <td>blame fact nation pp imag dirt barrack andalus...</td>\n",
              "    </tr>\n",
              "  </tbody>\n",
              "</table>\n",
              "<p>99 rows × 5 columns</p>\n",
              "</div>\n",
              "      <button class=\"colab-df-convert\" onclick=\"convertToInteractive('df-96a114ca-2217-42d1-bf11-ba1c22156424')\"\n",
              "              title=\"Convert this dataframe to an interactive table.\"\n",
              "              style=\"display:none;\">\n",
              "        \n",
              "  <svg xmlns=\"http://www.w3.org/2000/svg\" height=\"24px\"viewBox=\"0 0 24 24\"\n",
              "       width=\"24px\">\n",
              "    <path d=\"M0 0h24v24H0V0z\" fill=\"none\"/>\n",
              "    <path d=\"M18.56 5.44l.94 2.06.94-2.06 2.06-.94-2.06-.94-.94-2.06-.94 2.06-2.06.94zm-11 1L8.5 8.5l.94-2.06 2.06-.94-2.06-.94L8.5 2.5l-.94 2.06-2.06.94zm10 10l.94 2.06.94-2.06 2.06-.94-2.06-.94-.94-2.06-.94 2.06-2.06.94z\"/><path d=\"M17.41 7.96l-1.37-1.37c-.4-.4-.92-.59-1.43-.59-.52 0-1.04.2-1.43.59L10.3 9.45l-7.72 7.72c-.78.78-.78 2.05 0 2.83L4 21.41c.39.39.9.59 1.41.59.51 0 1.02-.2 1.41-.59l7.78-7.78 2.81-2.81c.8-.78.8-2.07 0-2.86zM5.41 20L4 18.59l7.72-7.72 1.47 1.35L5.41 20z\"/>\n",
              "  </svg>\n",
              "      </button>\n",
              "      \n",
              "  <style>\n",
              "    .colab-df-container {\n",
              "      display:flex;\n",
              "      flex-wrap:wrap;\n",
              "      gap: 12px;\n",
              "    }\n",
              "\n",
              "    .colab-df-convert {\n",
              "      background-color: #E8F0FE;\n",
              "      border: none;\n",
              "      border-radius: 50%;\n",
              "      cursor: pointer;\n",
              "      display: none;\n",
              "      fill: #1967D2;\n",
              "      height: 32px;\n",
              "      padding: 0 0 0 0;\n",
              "      width: 32px;\n",
              "    }\n",
              "\n",
              "    .colab-df-convert:hover {\n",
              "      background-color: #E2EBFA;\n",
              "      box-shadow: 0px 1px 2px rgba(60, 64, 67, 0.3), 0px 1px 3px 1px rgba(60, 64, 67, 0.15);\n",
              "      fill: #174EA6;\n",
              "    }\n",
              "\n",
              "    [theme=dark] .colab-df-convert {\n",
              "      background-color: #3B4455;\n",
              "      fill: #D2E3FC;\n",
              "    }\n",
              "\n",
              "    [theme=dark] .colab-df-convert:hover {\n",
              "      background-color: #434B5C;\n",
              "      box-shadow: 0px 1px 3px 1px rgba(0, 0, 0, 0.15);\n",
              "      filter: drop-shadow(0px 1px 2px rgba(0, 0, 0, 0.3));\n",
              "      fill: #FFFFFF;\n",
              "    }\n",
              "  </style>\n",
              "\n",
              "      <script>\n",
              "        const buttonEl =\n",
              "          document.querySelector('#df-96a114ca-2217-42d1-bf11-ba1c22156424 button.colab-df-convert');\n",
              "        buttonEl.style.display =\n",
              "          google.colab.kernel.accessAllowed ? 'block' : 'none';\n",
              "\n",
              "        async function convertToInteractive(key) {\n",
              "          const element = document.querySelector('#df-96a114ca-2217-42d1-bf11-ba1c22156424');\n",
              "          const dataTable =\n",
              "            await google.colab.kernel.invokeFunction('convertToInteractive',\n",
              "                                                     [key], {});\n",
              "          if (!dataTable) return;\n",
              "\n",
              "          const docLinkHtml = 'Like what you see? Visit the ' +\n",
              "            '<a target=\"_blank\" href=https://colab.research.google.com/notebooks/data_table.ipynb>data table notebook</a>'\n",
              "            + ' to learn more about interactive tables.';\n",
              "          element.innerHTML = '';\n",
              "          dataTable['output_type'] = 'display_data';\n",
              "          await google.colab.output.renderOutput(dataTable, element);\n",
              "          const docLink = document.createElement('div');\n",
              "          docLink.innerHTML = docLinkHtml;\n",
              "          element.appendChild(docLink);\n",
              "        }\n",
              "      </script>\n",
              "    </div>\n",
              "  </div>\n",
              "  "
            ]
          },
          "metadata": {},
          "execution_count": 229
        }
      ]
    },
    {
      "cell_type": "code",
      "source": [
        "df= df.drop('cuenta',axis = 1)\n",
        "df = df.drop('timestamp',axis = 1)\n",
        "df = df.drop('tweet',axis=1)\n",
        "df"
      ],
      "metadata": {
        "colab": {
          "base_uri": "https://localhost:8080/"
        },
        "id": "vnjSrUuse-oL",
        "outputId": "beb7549d-db1d-4094-896e-3e9330096eb3"
      },
      "execution_count": null,
      "outputs": [
        {
          "output_type": "execute_result",
          "data": {
            "text/plain": [
              "       partido                                            English\n",
              "0         psoe                      _rm _ good cheer spring start\n",
              "1         psoe   _moran big fan social radic face democrat devalu\n",
              "2         psoe  _presion new owner renew time longer problem m...\n",
              "3         psoe  _dolera energi price differenti germani franc ...\n",
              "4         psoe             import spread messag rais awar retweet\n",
              "..         ...                                                ...\n",
              "94  ciudadanos                                    newprofilephoto\n",
              "95        psoe     studi corrobor andalusia worst financ look way\n",
              "96        psoe  win independentista alfredo pérez rubalcaba _r...\n",
              "97        psoe  hernando pp instead come andalusia employ plan...\n",
              "98        psoe  blame fact nation pp imag dirt barrack andalus...\n",
              "\n",
              "[99 rows x 2 columns]"
            ],
            "text/html": [
              "\n",
              "  <div id=\"df-00ccf89b-bfdd-4802-82a9-7536952e665a\">\n",
              "    <div class=\"colab-df-container\">\n",
              "      <div>\n",
              "<style scoped>\n",
              "    .dataframe tbody tr th:only-of-type {\n",
              "        vertical-align: middle;\n",
              "    }\n",
              "\n",
              "    .dataframe tbody tr th {\n",
              "        vertical-align: top;\n",
              "    }\n",
              "\n",
              "    .dataframe thead th {\n",
              "        text-align: right;\n",
              "    }\n",
              "</style>\n",
              "<table border=\"1\" class=\"dataframe\">\n",
              "  <thead>\n",
              "    <tr style=\"text-align: right;\">\n",
              "      <th></th>\n",
              "      <th>partido</th>\n",
              "      <th>English</th>\n",
              "    </tr>\n",
              "  </thead>\n",
              "  <tbody>\n",
              "    <tr>\n",
              "      <th>0</th>\n",
              "      <td>psoe</td>\n",
              "      <td>_rm _ good cheer spring start</td>\n",
              "    </tr>\n",
              "    <tr>\n",
              "      <th>1</th>\n",
              "      <td>psoe</td>\n",
              "      <td>_moran big fan social radic face democrat devalu</td>\n",
              "    </tr>\n",
              "    <tr>\n",
              "      <th>2</th>\n",
              "      <td>psoe</td>\n",
              "      <td>_presion new owner renew time longer problem m...</td>\n",
              "    </tr>\n",
              "    <tr>\n",
              "      <th>3</th>\n",
              "      <td>psoe</td>\n",
              "      <td>_dolera energi price differenti germani franc ...</td>\n",
              "    </tr>\n",
              "    <tr>\n",
              "      <th>4</th>\n",
              "      <td>psoe</td>\n",
              "      <td>import spread messag rais awar retweet</td>\n",
              "    </tr>\n",
              "    <tr>\n",
              "      <th>...</th>\n",
              "      <td>...</td>\n",
              "      <td>...</td>\n",
              "    </tr>\n",
              "    <tr>\n",
              "      <th>94</th>\n",
              "      <td>ciudadanos</td>\n",
              "      <td>newprofilephoto</td>\n",
              "    </tr>\n",
              "    <tr>\n",
              "      <th>95</th>\n",
              "      <td>psoe</td>\n",
              "      <td>studi corrobor andalusia worst financ look way</td>\n",
              "    </tr>\n",
              "    <tr>\n",
              "      <th>96</th>\n",
              "      <td>psoe</td>\n",
              "      <td>win independentista alfredo pérez rubalcaba _r...</td>\n",
              "    </tr>\n",
              "    <tr>\n",
              "      <th>97</th>\n",
              "      <td>psoe</td>\n",
              "      <td>hernando pp instead come andalusia employ plan...</td>\n",
              "    </tr>\n",
              "    <tr>\n",
              "      <th>98</th>\n",
              "      <td>psoe</td>\n",
              "      <td>blame fact nation pp imag dirt barrack andalus...</td>\n",
              "    </tr>\n",
              "  </tbody>\n",
              "</table>\n",
              "<p>99 rows × 2 columns</p>\n",
              "</div>\n",
              "      <button class=\"colab-df-convert\" onclick=\"convertToInteractive('df-00ccf89b-bfdd-4802-82a9-7536952e665a')\"\n",
              "              title=\"Convert this dataframe to an interactive table.\"\n",
              "              style=\"display:none;\">\n",
              "        \n",
              "  <svg xmlns=\"http://www.w3.org/2000/svg\" height=\"24px\"viewBox=\"0 0 24 24\"\n",
              "       width=\"24px\">\n",
              "    <path d=\"M0 0h24v24H0V0z\" fill=\"none\"/>\n",
              "    <path d=\"M18.56 5.44l.94 2.06.94-2.06 2.06-.94-2.06-.94-.94-2.06-.94 2.06-2.06.94zm-11 1L8.5 8.5l.94-2.06 2.06-.94-2.06-.94L8.5 2.5l-.94 2.06-2.06.94zm10 10l.94 2.06.94-2.06 2.06-.94-2.06-.94-.94-2.06-.94 2.06-2.06.94z\"/><path d=\"M17.41 7.96l-1.37-1.37c-.4-.4-.92-.59-1.43-.59-.52 0-1.04.2-1.43.59L10.3 9.45l-7.72 7.72c-.78.78-.78 2.05 0 2.83L4 21.41c.39.39.9.59 1.41.59.51 0 1.02-.2 1.41-.59l7.78-7.78 2.81-2.81c.8-.78.8-2.07 0-2.86zM5.41 20L4 18.59l7.72-7.72 1.47 1.35L5.41 20z\"/>\n",
              "  </svg>\n",
              "      </button>\n",
              "      \n",
              "  <style>\n",
              "    .colab-df-container {\n",
              "      display:flex;\n",
              "      flex-wrap:wrap;\n",
              "      gap: 12px;\n",
              "    }\n",
              "\n",
              "    .colab-df-convert {\n",
              "      background-color: #E8F0FE;\n",
              "      border: none;\n",
              "      border-radius: 50%;\n",
              "      cursor: pointer;\n",
              "      display: none;\n",
              "      fill: #1967D2;\n",
              "      height: 32px;\n",
              "      padding: 0 0 0 0;\n",
              "      width: 32px;\n",
              "    }\n",
              "\n",
              "    .colab-df-convert:hover {\n",
              "      background-color: #E2EBFA;\n",
              "      box-shadow: 0px 1px 2px rgba(60, 64, 67, 0.3), 0px 1px 3px 1px rgba(60, 64, 67, 0.15);\n",
              "      fill: #174EA6;\n",
              "    }\n",
              "\n",
              "    [theme=dark] .colab-df-convert {\n",
              "      background-color: #3B4455;\n",
              "      fill: #D2E3FC;\n",
              "    }\n",
              "\n",
              "    [theme=dark] .colab-df-convert:hover {\n",
              "      background-color: #434B5C;\n",
              "      box-shadow: 0px 1px 3px 1px rgba(0, 0, 0, 0.15);\n",
              "      filter: drop-shadow(0px 1px 2px rgba(0, 0, 0, 0.3));\n",
              "      fill: #FFFFFF;\n",
              "    }\n",
              "  </style>\n",
              "\n",
              "      <script>\n",
              "        const buttonEl =\n",
              "          document.querySelector('#df-00ccf89b-bfdd-4802-82a9-7536952e665a button.colab-df-convert');\n",
              "        buttonEl.style.display =\n",
              "          google.colab.kernel.accessAllowed ? 'block' : 'none';\n",
              "\n",
              "        async function convertToInteractive(key) {\n",
              "          const element = document.querySelector('#df-00ccf89b-bfdd-4802-82a9-7536952e665a');\n",
              "          const dataTable =\n",
              "            await google.colab.kernel.invokeFunction('convertToInteractive',\n",
              "                                                     [key], {});\n",
              "          if (!dataTable) return;\n",
              "\n",
              "          const docLinkHtml = 'Like what you see? Visit the ' +\n",
              "            '<a target=\"_blank\" href=https://colab.research.google.com/notebooks/data_table.ipynb>data table notebook</a>'\n",
              "            + ' to learn more about interactive tables.';\n",
              "          element.innerHTML = '';\n",
              "          dataTable['output_type'] = 'display_data';\n",
              "          await google.colab.output.renderOutput(dataTable, element);\n",
              "          const docLink = document.createElement('div');\n",
              "          docLink.innerHTML = docLinkHtml;\n",
              "          element.appendChild(docLink);\n",
              "        }\n",
              "      </script>\n",
              "    </div>\n",
              "  </div>\n",
              "  "
            ]
          },
          "metadata": {},
          "execution_count": 230
        }
      ]
    },
    {
      "cell_type": "code",
      "source": [
        "from sklearn.preprocessing import LabelEncoder\n",
        "le = LabelEncoder()\n",
        "label = le.fit_transform(df['partido'])\n",
        "df.drop(\"partido\", axis=1, inplace=True)\n",
        "df[\"partido\"] = label\n",
        "df"
      ],
      "metadata": {
        "colab": {
          "base_uri": "https://localhost:8080/"
        },
        "id": "bOH2aZUTpr4E",
        "outputId": "c0b4a193-ade7-41e9-e7c7-039ec6662923"
      },
      "execution_count": null,
      "outputs": [
        {
          "output_type": "execute_result",
          "data": {
            "text/plain": [
              "                                              English  partido\n",
              "0                       _rm _ good cheer spring start        1\n",
              "1    _moran big fan social radic face democrat devalu        1\n",
              "2   _presion new owner renew time longer problem m...        1\n",
              "3   _dolera energi price differenti germani franc ...        1\n",
              "4              import spread messag rais awar retweet        1\n",
              "..                                                ...      ...\n",
              "94                                    newprofilephoto        0\n",
              "95     studi corrobor andalusia worst financ look way        1\n",
              "96  win independentista alfredo pérez rubalcaba _r...        1\n",
              "97  hernando pp instead come andalusia employ plan...        1\n",
              "98  blame fact nation pp imag dirt barrack andalus...        1\n",
              "\n",
              "[99 rows x 2 columns]"
            ],
            "text/html": [
              "\n",
              "  <div id=\"df-6aa911dc-b724-4288-a0ae-029149f5f2a8\">\n",
              "    <div class=\"colab-df-container\">\n",
              "      <div>\n",
              "<style scoped>\n",
              "    .dataframe tbody tr th:only-of-type {\n",
              "        vertical-align: middle;\n",
              "    }\n",
              "\n",
              "    .dataframe tbody tr th {\n",
              "        vertical-align: top;\n",
              "    }\n",
              "\n",
              "    .dataframe thead th {\n",
              "        text-align: right;\n",
              "    }\n",
              "</style>\n",
              "<table border=\"1\" class=\"dataframe\">\n",
              "  <thead>\n",
              "    <tr style=\"text-align: right;\">\n",
              "      <th></th>\n",
              "      <th>English</th>\n",
              "      <th>partido</th>\n",
              "    </tr>\n",
              "  </thead>\n",
              "  <tbody>\n",
              "    <tr>\n",
              "      <th>0</th>\n",
              "      <td>_rm _ good cheer spring start</td>\n",
              "      <td>1</td>\n",
              "    </tr>\n",
              "    <tr>\n",
              "      <th>1</th>\n",
              "      <td>_moran big fan social radic face democrat devalu</td>\n",
              "      <td>1</td>\n",
              "    </tr>\n",
              "    <tr>\n",
              "      <th>2</th>\n",
              "      <td>_presion new owner renew time longer problem m...</td>\n",
              "      <td>1</td>\n",
              "    </tr>\n",
              "    <tr>\n",
              "      <th>3</th>\n",
              "      <td>_dolera energi price differenti germani franc ...</td>\n",
              "      <td>1</td>\n",
              "    </tr>\n",
              "    <tr>\n",
              "      <th>4</th>\n",
              "      <td>import spread messag rais awar retweet</td>\n",
              "      <td>1</td>\n",
              "    </tr>\n",
              "    <tr>\n",
              "      <th>...</th>\n",
              "      <td>...</td>\n",
              "      <td>...</td>\n",
              "    </tr>\n",
              "    <tr>\n",
              "      <th>94</th>\n",
              "      <td>newprofilephoto</td>\n",
              "      <td>0</td>\n",
              "    </tr>\n",
              "    <tr>\n",
              "      <th>95</th>\n",
              "      <td>studi corrobor andalusia worst financ look way</td>\n",
              "      <td>1</td>\n",
              "    </tr>\n",
              "    <tr>\n",
              "      <th>96</th>\n",
              "      <td>win independentista alfredo pérez rubalcaba _r...</td>\n",
              "      <td>1</td>\n",
              "    </tr>\n",
              "    <tr>\n",
              "      <th>97</th>\n",
              "      <td>hernando pp instead come andalusia employ plan...</td>\n",
              "      <td>1</td>\n",
              "    </tr>\n",
              "    <tr>\n",
              "      <th>98</th>\n",
              "      <td>blame fact nation pp imag dirt barrack andalus...</td>\n",
              "      <td>1</td>\n",
              "    </tr>\n",
              "  </tbody>\n",
              "</table>\n",
              "<p>99 rows × 2 columns</p>\n",
              "</div>\n",
              "      <button class=\"colab-df-convert\" onclick=\"convertToInteractive('df-6aa911dc-b724-4288-a0ae-029149f5f2a8')\"\n",
              "              title=\"Convert this dataframe to an interactive table.\"\n",
              "              style=\"display:none;\">\n",
              "        \n",
              "  <svg xmlns=\"http://www.w3.org/2000/svg\" height=\"24px\"viewBox=\"0 0 24 24\"\n",
              "       width=\"24px\">\n",
              "    <path d=\"M0 0h24v24H0V0z\" fill=\"none\"/>\n",
              "    <path d=\"M18.56 5.44l.94 2.06.94-2.06 2.06-.94-2.06-.94-.94-2.06-.94 2.06-2.06.94zm-11 1L8.5 8.5l.94-2.06 2.06-.94-2.06-.94L8.5 2.5l-.94 2.06-2.06.94zm10 10l.94 2.06.94-2.06 2.06-.94-2.06-.94-.94-2.06-.94 2.06-2.06.94z\"/><path d=\"M17.41 7.96l-1.37-1.37c-.4-.4-.92-.59-1.43-.59-.52 0-1.04.2-1.43.59L10.3 9.45l-7.72 7.72c-.78.78-.78 2.05 0 2.83L4 21.41c.39.39.9.59 1.41.59.51 0 1.02-.2 1.41-.59l7.78-7.78 2.81-2.81c.8-.78.8-2.07 0-2.86zM5.41 20L4 18.59l7.72-7.72 1.47 1.35L5.41 20z\"/>\n",
              "  </svg>\n",
              "      </button>\n",
              "      \n",
              "  <style>\n",
              "    .colab-df-container {\n",
              "      display:flex;\n",
              "      flex-wrap:wrap;\n",
              "      gap: 12px;\n",
              "    }\n",
              "\n",
              "    .colab-df-convert {\n",
              "      background-color: #E8F0FE;\n",
              "      border: none;\n",
              "      border-radius: 50%;\n",
              "      cursor: pointer;\n",
              "      display: none;\n",
              "      fill: #1967D2;\n",
              "      height: 32px;\n",
              "      padding: 0 0 0 0;\n",
              "      width: 32px;\n",
              "    }\n",
              "\n",
              "    .colab-df-convert:hover {\n",
              "      background-color: #E2EBFA;\n",
              "      box-shadow: 0px 1px 2px rgba(60, 64, 67, 0.3), 0px 1px 3px 1px rgba(60, 64, 67, 0.15);\n",
              "      fill: #174EA6;\n",
              "    }\n",
              "\n",
              "    [theme=dark] .colab-df-convert {\n",
              "      background-color: #3B4455;\n",
              "      fill: #D2E3FC;\n",
              "    }\n",
              "\n",
              "    [theme=dark] .colab-df-convert:hover {\n",
              "      background-color: #434B5C;\n",
              "      box-shadow: 0px 1px 3px 1px rgba(0, 0, 0, 0.15);\n",
              "      filter: drop-shadow(0px 1px 2px rgba(0, 0, 0, 0.3));\n",
              "      fill: #FFFFFF;\n",
              "    }\n",
              "  </style>\n",
              "\n",
              "      <script>\n",
              "        const buttonEl =\n",
              "          document.querySelector('#df-6aa911dc-b724-4288-a0ae-029149f5f2a8 button.colab-df-convert');\n",
              "        buttonEl.style.display =\n",
              "          google.colab.kernel.accessAllowed ? 'block' : 'none';\n",
              "\n",
              "        async function convertToInteractive(key) {\n",
              "          const element = document.querySelector('#df-6aa911dc-b724-4288-a0ae-029149f5f2a8');\n",
              "          const dataTable =\n",
              "            await google.colab.kernel.invokeFunction('convertToInteractive',\n",
              "                                                     [key], {});\n",
              "          if (!dataTable) return;\n",
              "\n",
              "          const docLinkHtml = 'Like what you see? Visit the ' +\n",
              "            '<a target=\"_blank\" href=https://colab.research.google.com/notebooks/data_table.ipynb>data table notebook</a>'\n",
              "            + ' to learn more about interactive tables.';\n",
              "          element.innerHTML = '';\n",
              "          dataTable['output_type'] = 'display_data';\n",
              "          await google.colab.output.renderOutput(dataTable, element);\n",
              "          const docLink = document.createElement('div');\n",
              "          docLink.innerHTML = docLinkHtml;\n",
              "          element.appendChild(docLink);\n",
              "        }\n",
              "      </script>\n",
              "    </div>\n",
              "  </div>\n",
              "  "
            ]
          },
          "metadata": {},
          "execution_count": 231
        }
      ]
    },
    {
      "cell_type": "markdown",
      "source": [
        "Determining labels for each tweet"
      ],
      "metadata": {
        "id": "O5lVyqz5r07U"
      }
    },
    {
      "cell_type": "code",
      "source": [
        "import multiprocessing\n",
        "\n",
        "from re import sub\n",
        "from gensim.models import Word2Vec\n",
        "from collections import defaultdict\n",
        "from gensim.models import KeyedVectors\n",
        "from gensim.test.utils import get_tmpfile\n",
        "from gensim.models.phrases import Phrases, Phraser"
      ],
      "metadata": {
        "id": "vrT1N3H-vqMu"
      },
      "execution_count": null,
      "outputs": []
    },
    {
      "cell_type": "code",
      "source": [
        "file_model = df.copy()\n",
        "file_model = file_model[file_model.English.str.len()>1]"
      ],
      "metadata": {
        "id": "Mpt3DpgMvadc"
      },
      "execution_count": null,
      "outputs": []
    },
    {
      "cell_type": "code",
      "source": [
        "sent = [row for row in file_model.English]\n",
        "phrases = Phrases(sent, min_count=1, progress_per=50000)\n",
        "bigram = Phraser(phrases)\n",
        "sentences = bigram[sent]\n",
        "sentences[1]"
      ],
      "metadata": {
        "colab": {
          "base_uri": "https://localhost:8080/"
        },
        "id": "rLQ1GOXSvaWU",
        "outputId": "4450d498-00ed-4e47-b27c-b6585e1879e1"
      },
      "execution_count": null,
      "outputs": [
        {
          "output_type": "execute_result",
          "data": {
            "text/plain": [
              "'_moran big fan social radic face democrat devalu'"
            ],
            "application/vnd.google.colaboratory.intrinsic+json": {
              "type": "string"
            }
          },
          "metadata": {},
          "execution_count": 234
        }
      ]
    },
    {
      "cell_type": "code",
      "source": [
        "w2v_model = Word2Vec(min_count=3,\n",
        "                     window=4,\n",
        "                     sample=1e-5, \n",
        "                     alpha=0.03, \n",
        "                     min_alpha=0.0007, \n",
        "                     negative=20,\n",
        "                     workers=multiprocessing.cpu_count()-1)\n",
        "\n",
        "w2v_model.build_vocab(sentences, progress_per=50000)"
      ],
      "metadata": {
        "colab": {
          "base_uri": "https://localhost:8080/"
        },
        "id": "PCpMnzaIvwvp",
        "outputId": "73d7667e-a711-4949-acf9-1263af0e567b"
      },
      "execution_count": null,
      "outputs": [
        {
          "output_type": "stream",
          "name": "stderr",
          "text": [
            "WARNING:gensim.models.word2vec:Each 'sentences' item should be a list of words (usually unicode strings). First item here is instead plain <class 'str'>.\n"
          ]
        }
      ]
    },
    {
      "cell_type": "code",
      "source": [
        "w2v_model.train(sentences, total_examples=w2v_model.corpus_count, epochs=30, report_delay=1)\n",
        "w2v_model.init_sims(replace=True)"
      ],
      "metadata": {
        "colab": {
          "base_uri": "https://localhost:8080/"
        },
        "id": "w1f3NjZnv9T0",
        "outputId": "08470c8e-6c95-4bb2-fe73-3bdb20dd7c80"
      },
      "execution_count": null,
      "outputs": [
        {
          "output_type": "stream",
          "name": "stderr",
          "text": [
            "<ipython-input-236-ad53caad7e39>:2: DeprecationWarning: Call to deprecated `init_sims` (Gensim 4.0.0 implemented internal optimizations that make calls to init_sims() unnecessary. init_sims() is now obsoleted and will be completely removed in future versions. See https://github.com/RaRe-Technologies/gensim/wiki/Migrating-from-Gensim-3.x-to-4).\n",
            "  w2v_model.init_sims(replace=True)\n",
            "WARNING:gensim.models.keyedvectors:destructive init_sims(replace=True) deprecated & no longer required for space-efficiency\n"
          ]
        }
      ]
    },
    {
      "cell_type": "code",
      "source": [
        "w2v_model.save(\"word2vec.model\")"
      ],
      "metadata": {
        "id": "1Hy1REEOwBoq"
      },
      "execution_count": null,
      "outputs": []
    },
    {
      "cell_type": "code",
      "source": [
        "file_export = file_model.copy()\n",
        "file_export['old_title'] = file_export.English\n",
        "file_export.old_title = file_export.old_title.str.join(' ')\n",
        "file_export.English = file_export.English.apply(lambda x: ' '.join(bigram[x]))\n",
        "file_export.partido = file_export.partido.astype('int8')"
      ],
      "metadata": {
        "id": "2LFwbQDpwJ6S"
      },
      "execution_count": null,
      "outputs": []
    },
    {
      "cell_type": "code",
      "source": [
        "file_export[['English', 'partido']].to_csv('cleaned_dataset.csv', index=False)"
      ],
      "metadata": {
        "id": "4Tr9myOYwkKg"
      },
      "execution_count": null,
      "outputs": []
    },
    {
      "cell_type": "markdown",
      "source": [
        "Predicting clusters for words"
      ],
      "metadata": {
        "id": "P6s8gFenwxkm"
      }
    },
    {
      "cell_type": "code",
      "source": [
        "!pip install gensim==4.0.0"
      ],
      "metadata": {
        "colab": {
          "base_uri": "https://localhost:8080/"
        },
        "id": "fH2lRJUMyqoZ",
        "outputId": "d3cab5bf-11ab-4f7a-ed04-9f5ea2348b72"
      },
      "execution_count": null,
      "outputs": [
        {
          "output_type": "stream",
          "name": "stdout",
          "text": [
            "Looking in indexes: https://pypi.org/simple, https://us-python.pkg.dev/colab-wheels/public/simple/\n",
            "Collecting gensim==4.0.0\n",
            "  Using cached gensim-4.0.0-cp38-cp38-manylinux1_x86_64.whl (23.9 MB)\n",
            "Requirement already satisfied: numpy>=1.11.3 in /usr/local/lib/python3.8/dist-packages (from gensim==4.0.0) (1.21.6)\n",
            "Requirement already satisfied: smart-open>=1.8.1 in /usr/local/lib/python3.8/dist-packages (from gensim==4.0.0) (5.2.1)\n",
            "Requirement already satisfied: scipy>=0.18.1 in /usr/local/lib/python3.8/dist-packages (from gensim==4.0.0) (1.7.3)\n",
            "Installing collected packages: gensim\n",
            "  Attempting uninstall: gensim\n",
            "    Found existing installation: gensim 4.2.0\n",
            "    Uninstalling gensim-4.2.0:\n",
            "      Successfully uninstalled gensim-4.2.0\n",
            "Successfully installed gensim-4.0.0\n"
          ]
        },
        {
          "output_type": "display_data",
          "data": {
            "application/vnd.colab-display-data+json": {
              "pip_warning": {
                "packages": [
                  "gensim"
                ]
              }
            }
          },
          "metadata": {}
        }
      ]
    },
    {
      "cell_type": "code",
      "source": [
        "from gensim.models import Word2Vec\n",
        "from sklearn.cluster import KMeans\n",
        "import gensim"
      ],
      "metadata": {
        "id": "M5oDwaOqwwtL"
      },
      "execution_count": null,
      "outputs": []
    },
    {
      "cell_type": "code",
      "source": [
        "print(gensim.__version__)"
      ],
      "metadata": {
        "colab": {
          "base_uri": "https://localhost:8080/"
        },
        "id": "S11SbJloyAic",
        "outputId": "8416efd0-1032-4356-b5f5-3fd647d22cfe"
      },
      "execution_count": null,
      "outputs": [
        {
          "output_type": "stream",
          "name": "stdout",
          "text": [
            "4.2.0\n"
          ]
        }
      ]
    },
    {
      "cell_type": "code",
      "source": [
        "word_vectors = Word2Vec.load('/content/word2vec.model').wv"
      ],
      "metadata": {
        "id": "Qg5cqcAGw7YP"
      },
      "execution_count": null,
      "outputs": []
    },
    {
      "cell_type": "code",
      "source": [
        "model = KMeans(n_clusters=2\n",
        "               \n",
        "               , max_iter=1000, random_state=True, n_init=50).fit(X=word_vectors.vectors.astype('double'))"
      ],
      "metadata": {
        "id": "yKerv8qPxCv9"
      },
      "execution_count": null,
      "outputs": []
    },
    {
      "cell_type": "code",
      "source": [
        "word_vectors.similar_by_vector(model.cluster_centers_[1], topn=10, restrict_vocab=None)"
      ],
      "metadata": {
        "colab": {
          "base_uri": "https://localhost:8080/"
        },
        "id": "mV0zeWM_xHuB",
        "outputId": "4b4b72de-e75a-45fc-eb46-99d1cbdc45fa"
      },
      "execution_count": null,
      "outputs": [
        {
          "output_type": "execute_result",
          "data": {
            "text/plain": [
              "[('q', 1.0000001192092896),\n",
              " ('y', 0.29571235179901123),\n",
              " ('3', 0.29370227456092834),\n",
              " ('v', 0.2920180559158325),\n",
              " ('t', 0.2912953495979309),\n",
              " ('k', 0.2904706597328186),\n",
              " ('b', 0.2899188995361328),\n",
              " ('9', 0.2889474630355835),\n",
              " ('w', 0.28844600915908813),\n",
              " ('s', 0.2878337502479553)]"
            ]
          },
          "metadata": {},
          "execution_count": 245
        }
      ]
    },
    {
      "cell_type": "code",
      "source": [
        "positive_cluster_index = 1\n",
        "positive_cluster_center = model.cluster_centers_[positive_cluster_index]\n",
        "negative_cluster_center = model.cluster_centers_[1-positive_cluster_index]"
      ],
      "metadata": {
        "id": "ZuHRcZcaxL96"
      },
      "execution_count": null,
      "outputs": []
    },
    {
      "cell_type": "code",
      "source": [
        "!pip install --upgrade gensim"
      ],
      "metadata": {
        "colab": {
          "base_uri": "https://localhost:8080/"
        },
        "id": "yCEVKsuYKDcr",
        "outputId": "52408b06-cdf7-4b17-edb7-404421e41a31"
      },
      "execution_count": null,
      "outputs": [
        {
          "output_type": "stream",
          "name": "stdout",
          "text": [
            "Looking in indexes: https://pypi.org/simple, https://us-python.pkg.dev/colab-wheels/public/simple/\n",
            "Requirement already satisfied: gensim in /usr/local/lib/python3.8/dist-packages (4.0.0)\n",
            "Collecting gensim\n",
            "  Using cached gensim-4.2.0-cp38-cp38-manylinux_2_12_x86_64.manylinux2010_x86_64.whl (24.1 MB)\n",
            "Requirement already satisfied: scipy>=0.18.1 in /usr/local/lib/python3.8/dist-packages (from gensim) (1.7.3)\n",
            "Requirement already satisfied: numpy>=1.17.0 in /usr/local/lib/python3.8/dist-packages (from gensim) (1.21.6)\n",
            "Requirement already satisfied: smart-open>=1.8.1 in /usr/local/lib/python3.8/dist-packages (from gensim) (5.2.1)\n",
            "Installing collected packages: gensim\n",
            "  Attempting uninstall: gensim\n",
            "    Found existing installation: gensim 4.0.0\n",
            "    Uninstalling gensim-4.0.0:\n",
            "      Successfully uninstalled gensim-4.0.0\n",
            "Successfully installed gensim-4.2.0\n"
          ]
        },
        {
          "output_type": "display_data",
          "data": {
            "application/vnd.colab-display-data+json": {
              "pip_warning": {
                "packages": [
                  "gensim"
                ]
              }
            }
          },
          "metadata": {}
        }
      ]
    },
    {
      "cell_type": "code",
      "source": [
        "words = pd.DataFrame(word_vectors.index_to_key)\n",
        "words.columns = ['words']\n",
        "words['vectors'] = words.words.apply(lambda x: word_vectors[f'{x}'])\n",
        "words['cluster'] = words.vectors.apply(lambda x: model.predict([np.array(x)]))\n",
        "words.cluster = words.cluster.apply(lambda x: x[0])"
      ],
      "metadata": {
        "id": "2Rj4NStlxPg4"
      },
      "execution_count": null,
      "outputs": []
    },
    {
      "cell_type": "code",
      "source": [
        "words['cluster_value'] = [1 if i==positive_cluster_index else -1 for i in words.cluster]\n",
        "words['closeness_score'] = words.apply(lambda x: 1/(model.transform([x.vectors]).min()), axis=1)\n",
        "words['sentiment_coeff'] = words.closeness_score * words.cluster_value"
      ],
      "metadata": {
        "colab": {
          "base_uri": "https://localhost:8080/"
        },
        "id": "7-q-DLwjxYAZ",
        "outputId": "945f75d7-6b01-4ef9-b033-166debc6bd56"
      },
      "execution_count": null,
      "outputs": [
        {
          "output_type": "stream",
          "name": "stderr",
          "text": [
            "<ipython-input-249-652cc92ca545>:2: RuntimeWarning: divide by zero encountered in double_scalars\n",
            "  words['closeness_score'] = words.apply(lambda x: 1/(model.transform([x.vectors]).min()), axis=1)\n"
          ]
        }
      ]
    },
    {
      "cell_type": "code",
      "source": [
        "words.head(10)"
      ],
      "metadata": {
        "colab": {
          "base_uri": "https://localhost:8080/"
        },
        "id": "kUdjcw3bzkmS",
        "outputId": "d3d2affc-fb0d-435a-e243-9f723eee491c"
      },
      "execution_count": null,
      "outputs": [
        {
          "output_type": "execute_result",
          "data": {
            "text/plain": [
              "  words                                            vectors  cluster  \\\n",
              "0        [-0.0066649946, 0.038520537, 0.053885072, 0.12...        0   \n",
              "1     e  [-0.0103809135, 0.040530924, 0.05399493, 0.118...        0   \n",
              "2     a  [-0.006433389, 0.03976579, 0.047027912, 0.1147...        0   \n",
              "3     r  [-0.010321431, 0.04335944, 0.051656134, 0.1157...        0   \n",
              "4     i  [-0.01026403, 0.039620288, 0.04810302, 0.11551...        0   \n",
              "5     o  [-0.01147047, 0.04001286, 0.051128674, 0.11199...        0   \n",
              "6     n  [-0.0026341928, 0.03622556, 0.050882377, 0.116...        0   \n",
              "7     t  [-0.0015534153, 0.03577799, 0.05681902, 0.1210...        0   \n",
              "8     l  [-0.01180796, 0.043870233, 0.053773, 0.1216033...        0   \n",
              "9     s  [-0.009624589, 0.035570484, 0.047106408, 0.121...        0   \n",
              "\n",
              "   cluster_value  closeness_score  sentiment_coeff  \n",
              "0             -1        35.369154       -35.369154  \n",
              "1             -1        39.282472       -39.282472  \n",
              "2             -1        32.173391       -32.173391  \n",
              "3             -1        36.368626       -36.368626  \n",
              "4             -1        32.736377       -32.736377  \n",
              "5             -1        30.434056       -30.434056  \n",
              "6             -1        38.033099       -38.033099  \n",
              "7             -1        28.959745       -28.959745  \n",
              "8             -1        30.796244       -30.796244  \n",
              "9             -1        30.414874       -30.414874  "
            ],
            "text/html": [
              "\n",
              "  <div id=\"df-7a4e163f-ee42-43f9-88bc-f3b3f8e3f736\">\n",
              "    <div class=\"colab-df-container\">\n",
              "      <div>\n",
              "<style scoped>\n",
              "    .dataframe tbody tr th:only-of-type {\n",
              "        vertical-align: middle;\n",
              "    }\n",
              "\n",
              "    .dataframe tbody tr th {\n",
              "        vertical-align: top;\n",
              "    }\n",
              "\n",
              "    .dataframe thead th {\n",
              "        text-align: right;\n",
              "    }\n",
              "</style>\n",
              "<table border=\"1\" class=\"dataframe\">\n",
              "  <thead>\n",
              "    <tr style=\"text-align: right;\">\n",
              "      <th></th>\n",
              "      <th>words</th>\n",
              "      <th>vectors</th>\n",
              "      <th>cluster</th>\n",
              "      <th>cluster_value</th>\n",
              "      <th>closeness_score</th>\n",
              "      <th>sentiment_coeff</th>\n",
              "    </tr>\n",
              "  </thead>\n",
              "  <tbody>\n",
              "    <tr>\n",
              "      <th>0</th>\n",
              "      <td></td>\n",
              "      <td>[-0.0066649946, 0.038520537, 0.053885072, 0.12...</td>\n",
              "      <td>0</td>\n",
              "      <td>-1</td>\n",
              "      <td>35.369154</td>\n",
              "      <td>-35.369154</td>\n",
              "    </tr>\n",
              "    <tr>\n",
              "      <th>1</th>\n",
              "      <td>e</td>\n",
              "      <td>[-0.0103809135, 0.040530924, 0.05399493, 0.118...</td>\n",
              "      <td>0</td>\n",
              "      <td>-1</td>\n",
              "      <td>39.282472</td>\n",
              "      <td>-39.282472</td>\n",
              "    </tr>\n",
              "    <tr>\n",
              "      <th>2</th>\n",
              "      <td>a</td>\n",
              "      <td>[-0.006433389, 0.03976579, 0.047027912, 0.1147...</td>\n",
              "      <td>0</td>\n",
              "      <td>-1</td>\n",
              "      <td>32.173391</td>\n",
              "      <td>-32.173391</td>\n",
              "    </tr>\n",
              "    <tr>\n",
              "      <th>3</th>\n",
              "      <td>r</td>\n",
              "      <td>[-0.010321431, 0.04335944, 0.051656134, 0.1157...</td>\n",
              "      <td>0</td>\n",
              "      <td>-1</td>\n",
              "      <td>36.368626</td>\n",
              "      <td>-36.368626</td>\n",
              "    </tr>\n",
              "    <tr>\n",
              "      <th>4</th>\n",
              "      <td>i</td>\n",
              "      <td>[-0.01026403, 0.039620288, 0.04810302, 0.11551...</td>\n",
              "      <td>0</td>\n",
              "      <td>-1</td>\n",
              "      <td>32.736377</td>\n",
              "      <td>-32.736377</td>\n",
              "    </tr>\n",
              "    <tr>\n",
              "      <th>5</th>\n",
              "      <td>o</td>\n",
              "      <td>[-0.01147047, 0.04001286, 0.051128674, 0.11199...</td>\n",
              "      <td>0</td>\n",
              "      <td>-1</td>\n",
              "      <td>30.434056</td>\n",
              "      <td>-30.434056</td>\n",
              "    </tr>\n",
              "    <tr>\n",
              "      <th>6</th>\n",
              "      <td>n</td>\n",
              "      <td>[-0.0026341928, 0.03622556, 0.050882377, 0.116...</td>\n",
              "      <td>0</td>\n",
              "      <td>-1</td>\n",
              "      <td>38.033099</td>\n",
              "      <td>-38.033099</td>\n",
              "    </tr>\n",
              "    <tr>\n",
              "      <th>7</th>\n",
              "      <td>t</td>\n",
              "      <td>[-0.0015534153, 0.03577799, 0.05681902, 0.1210...</td>\n",
              "      <td>0</td>\n",
              "      <td>-1</td>\n",
              "      <td>28.959745</td>\n",
              "      <td>-28.959745</td>\n",
              "    </tr>\n",
              "    <tr>\n",
              "      <th>8</th>\n",
              "      <td>l</td>\n",
              "      <td>[-0.01180796, 0.043870233, 0.053773, 0.1216033...</td>\n",
              "      <td>0</td>\n",
              "      <td>-1</td>\n",
              "      <td>30.796244</td>\n",
              "      <td>-30.796244</td>\n",
              "    </tr>\n",
              "    <tr>\n",
              "      <th>9</th>\n",
              "      <td>s</td>\n",
              "      <td>[-0.009624589, 0.035570484, 0.047106408, 0.121...</td>\n",
              "      <td>0</td>\n",
              "      <td>-1</td>\n",
              "      <td>30.414874</td>\n",
              "      <td>-30.414874</td>\n",
              "    </tr>\n",
              "  </tbody>\n",
              "</table>\n",
              "</div>\n",
              "      <button class=\"colab-df-convert\" onclick=\"convertToInteractive('df-7a4e163f-ee42-43f9-88bc-f3b3f8e3f736')\"\n",
              "              title=\"Convert this dataframe to an interactive table.\"\n",
              "              style=\"display:none;\">\n",
              "        \n",
              "  <svg xmlns=\"http://www.w3.org/2000/svg\" height=\"24px\"viewBox=\"0 0 24 24\"\n",
              "       width=\"24px\">\n",
              "    <path d=\"M0 0h24v24H0V0z\" fill=\"none\"/>\n",
              "    <path d=\"M18.56 5.44l.94 2.06.94-2.06 2.06-.94-2.06-.94-.94-2.06-.94 2.06-2.06.94zm-11 1L8.5 8.5l.94-2.06 2.06-.94-2.06-.94L8.5 2.5l-.94 2.06-2.06.94zm10 10l.94 2.06.94-2.06 2.06-.94-2.06-.94-.94-2.06-.94 2.06-2.06.94z\"/><path d=\"M17.41 7.96l-1.37-1.37c-.4-.4-.92-.59-1.43-.59-.52 0-1.04.2-1.43.59L10.3 9.45l-7.72 7.72c-.78.78-.78 2.05 0 2.83L4 21.41c.39.39.9.59 1.41.59.51 0 1.02-.2 1.41-.59l7.78-7.78 2.81-2.81c.8-.78.8-2.07 0-2.86zM5.41 20L4 18.59l7.72-7.72 1.47 1.35L5.41 20z\"/>\n",
              "  </svg>\n",
              "      </button>\n",
              "      \n",
              "  <style>\n",
              "    .colab-df-container {\n",
              "      display:flex;\n",
              "      flex-wrap:wrap;\n",
              "      gap: 12px;\n",
              "    }\n",
              "\n",
              "    .colab-df-convert {\n",
              "      background-color: #E8F0FE;\n",
              "      border: none;\n",
              "      border-radius: 50%;\n",
              "      cursor: pointer;\n",
              "      display: none;\n",
              "      fill: #1967D2;\n",
              "      height: 32px;\n",
              "      padding: 0 0 0 0;\n",
              "      width: 32px;\n",
              "    }\n",
              "\n",
              "    .colab-df-convert:hover {\n",
              "      background-color: #E2EBFA;\n",
              "      box-shadow: 0px 1px 2px rgba(60, 64, 67, 0.3), 0px 1px 3px 1px rgba(60, 64, 67, 0.15);\n",
              "      fill: #174EA6;\n",
              "    }\n",
              "\n",
              "    [theme=dark] .colab-df-convert {\n",
              "      background-color: #3B4455;\n",
              "      fill: #D2E3FC;\n",
              "    }\n",
              "\n",
              "    [theme=dark] .colab-df-convert:hover {\n",
              "      background-color: #434B5C;\n",
              "      box-shadow: 0px 1px 3px 1px rgba(0, 0, 0, 0.15);\n",
              "      filter: drop-shadow(0px 1px 2px rgba(0, 0, 0, 0.3));\n",
              "      fill: #FFFFFF;\n",
              "    }\n",
              "  </style>\n",
              "\n",
              "      <script>\n",
              "        const buttonEl =\n",
              "          document.querySelector('#df-7a4e163f-ee42-43f9-88bc-f3b3f8e3f736 button.colab-df-convert');\n",
              "        buttonEl.style.display =\n",
              "          google.colab.kernel.accessAllowed ? 'block' : 'none';\n",
              "\n",
              "        async function convertToInteractive(key) {\n",
              "          const element = document.querySelector('#df-7a4e163f-ee42-43f9-88bc-f3b3f8e3f736');\n",
              "          const dataTable =\n",
              "            await google.colab.kernel.invokeFunction('convertToInteractive',\n",
              "                                                     [key], {});\n",
              "          if (!dataTable) return;\n",
              "\n",
              "          const docLinkHtml = 'Like what you see? Visit the ' +\n",
              "            '<a target=\"_blank\" href=https://colab.research.google.com/notebooks/data_table.ipynb>data table notebook</a>'\n",
              "            + ' to learn more about interactive tables.';\n",
              "          element.innerHTML = '';\n",
              "          dataTable['output_type'] = 'display_data';\n",
              "          await google.colab.output.renderOutput(dataTable, element);\n",
              "          const docLink = document.createElement('div');\n",
              "          docLink.innerHTML = docLinkHtml;\n",
              "          element.appendChild(docLink);\n",
              "        }\n",
              "      </script>\n",
              "    </div>\n",
              "  </div>\n",
              "  "
            ]
          },
          "metadata": {},
          "execution_count": 250
        }
      ]
    },
    {
      "cell_type": "code",
      "source": [
        "words[['words', 'sentiment_coeff']].to_csv('sentiment_dictionary.csv', index=False)"
      ],
      "metadata": {
        "id": "xGivTbrOztVh"
      },
      "execution_count": null,
      "outputs": []
    },
    {
      "cell_type": "code",
      "source": [
        "final_file = pd.read_csv('/content/cleaned_dataset.csv')"
      ],
      "metadata": {
        "id": "J0uhu04Q00eq"
      },
      "execution_count": null,
      "outputs": []
    },
    {
      "cell_type": "code",
      "source": [
        "sentiment_map = pd.read_csv('/content/sentiment_dictionary.csv')\n",
        "sentiment_dict = dict(zip(sentiment_map.words.values, sentiment_map.sentiment_coeff.values))"
      ],
      "metadata": {
        "id": "w6uZrqNo0KfO"
      },
      "execution_count": null,
      "outputs": []
    },
    {
      "cell_type": "code",
      "source": [
        "file_weighting = final_file.copy()"
      ],
      "metadata": {
        "id": "uHrdRnMB0a-F"
      },
      "execution_count": null,
      "outputs": []
    },
    {
      "cell_type": "code",
      "source": [
        "from sklearn.feature_extraction.text import TfidfVectorizer\n",
        "tfidf = TfidfVectorizer(tokenizer=lambda y: y.split(), norm=None)\n",
        "tfidf.fit(file_weighting.English)\n",
        "features = pd.Series(tfidf.get_feature_names())\n",
        "transformed = tfidf.transform(file_weighting.English)"
      ],
      "metadata": {
        "colab": {
          "base_uri": "https://localhost:8080/"
        },
        "id": "RoQOdMIt1Aft",
        "outputId": "bb291f07-0eed-492b-b640-f9276ff16ca3"
      },
      "execution_count": null,
      "outputs": [
        {
          "output_type": "stream",
          "name": "stderr",
          "text": [
            "/usr/local/lib/python3.8/dist-packages/sklearn/feature_extraction/text.py:516: UserWarning: The parameter 'token_pattern' will not be used since 'tokenizer' is not None'\n",
            "  warnings.warn(\n",
            "/usr/local/lib/python3.8/dist-packages/sklearn/utils/deprecation.py:87: FutureWarning: Function get_feature_names is deprecated; get_feature_names is deprecated in 1.0 and will be removed in 1.2. Please use get_feature_names_out instead.\n",
            "  warnings.warn(msg, category=FutureWarning)\n"
          ]
        }
      ]
    },
    {
      "cell_type": "code",
      "source": [
        "def create_tfidf_dictionary(x, transformed_file, features):\n",
        "    vector_coo = transformed_file[x.name].tocoo()\n",
        "    vector_coo.col = features.iloc[vector_coo.col].values\n",
        "    dict_from_coo = dict(zip(vector_coo.col, vector_coo.data))\n",
        "    return dict_from_coo\n",
        "\n",
        "def replace_tfidf_words(x, transformed_file, features):\n",
        "    dictionary = create_tfidf_dictionary(x, transformed_file, features)   \n",
        "    return list(map(lambda y:dictionary[f'{y}'], x.English.split()))"
      ],
      "metadata": {
        "id": "6C1BzY3g1GT2"
      },
      "execution_count": null,
      "outputs": []
    },
    {
      "cell_type": "code",
      "source": [
        "replaced_tfidf_scores = file_weighting.apply(lambda x: replace_tfidf_words(x, transformed, features), axis=1)"
      ],
      "metadata": {
        "id": "Ej9rnkzs1OdG"
      },
      "execution_count": null,
      "outputs": []
    },
    {
      "cell_type": "code",
      "source": [
        "def replace_sentiment_words(word, sentiment_dict):\n",
        "    try:\n",
        "        out = sentiment_dict[word]\n",
        "    except KeyError:\n",
        "        out = 0\n",
        "    return out"
      ],
      "metadata": {
        "id": "cTkgwZIm1aIz"
      },
      "execution_count": null,
      "outputs": []
    },
    {
      "cell_type": "code",
      "source": [
        "replaced_closeness_scores = file_weighting.English.apply(lambda x: list(map(lambda y: replace_sentiment_words(y, sentiment_dict), x.split())))"
      ],
      "metadata": {
        "id": "T1VNhk5d1fAz"
      },
      "execution_count": null,
      "outputs": []
    },
    {
      "cell_type": "code",
      "source": [
        "replacement_df = pd.DataFrame(data=[replaced_closeness_scores, replaced_tfidf_scores, file_weighting.English, file_weighting.partido]).T\n",
        "replacement_df.columns = ['sentiment_coeff', 'tfidf_scores', 'sentence', 'sentiment']\n",
        "replacement_df['sentiment_rate'] = replacement_df.apply(lambda x: np.array(x.loc['sentiment_coeff']) @ np.array(x.loc['tfidf_scores']), axis=1)\n",
        "replacement_df['prediction'] = (replacement_df.sentiment_rate>0).astype('int8')\n",
        "replacement_df['sentiment'] = [1 if i==1 else 0 for i in replacement_df.sentiment]"
      ],
      "metadata": {
        "id": "J5qs9_Xh1lNT"
      },
      "execution_count": null,
      "outputs": []
    },
    {
      "cell_type": "code",
      "source": [
        "predicted_classes = replacement_df.prediction"
      ],
      "metadata": {
        "id": "cyom191r3-6e"
      },
      "execution_count": null,
      "outputs": []
    },
    {
      "cell_type": "code",
      "source": [
        "final_file"
      ],
      "metadata": {
        "colab": {
          "base_uri": "https://localhost:8080/"
        },
        "id": "bVkgYIn91_Qf",
        "outputId": "05027d9d-5949-4004-9bd5-c9ebdf578779"
      },
      "execution_count": null,
      "outputs": [
        {
          "output_type": "execute_result",
          "data": {
            "text/plain": [
              "                                              English  partido\n",
              "0   _ r m   _   g o o d   c h e e r   s p r i n g ...        1\n",
              "1   _ m o r a n   b i g   f a n   s o c i a l   r ...        1\n",
              "2   _ p r e s i o n   n e w   o w n e r   r e n e ...        1\n",
              "3   _ d o l e r a   e n e r g i   p r i c e   d i ...        1\n",
              "4   i m p o r t   s p r e a d   m e s s a g   r a ...        1\n",
              "..                                                ...      ...\n",
              "93                      n e w p r o f i l e p h o t o        0\n",
              "94  s t u d i   c o r r o b o r   a n d a l u s i ...        1\n",
              "95  w i n   i n d e p e n d e n t i s t a   a l f ...        1\n",
              "96  h e r n a n d o   p p   i n s t e a d   c o m ...        1\n",
              "97  b l a m e   f a c t   n a t i o n   p p   i m ...        1\n",
              "\n",
              "[98 rows x 2 columns]"
            ],
            "text/html": [
              "\n",
              "  <div id=\"df-5cc160a8-3b1f-4ba9-9255-57d047ec7d81\">\n",
              "    <div class=\"colab-df-container\">\n",
              "      <div>\n",
              "<style scoped>\n",
              "    .dataframe tbody tr th:only-of-type {\n",
              "        vertical-align: middle;\n",
              "    }\n",
              "\n",
              "    .dataframe tbody tr th {\n",
              "        vertical-align: top;\n",
              "    }\n",
              "\n",
              "    .dataframe thead th {\n",
              "        text-align: right;\n",
              "    }\n",
              "</style>\n",
              "<table border=\"1\" class=\"dataframe\">\n",
              "  <thead>\n",
              "    <tr style=\"text-align: right;\">\n",
              "      <th></th>\n",
              "      <th>English</th>\n",
              "      <th>partido</th>\n",
              "    </tr>\n",
              "  </thead>\n",
              "  <tbody>\n",
              "    <tr>\n",
              "      <th>0</th>\n",
              "      <td>_ r m   _   g o o d   c h e e r   s p r i n g ...</td>\n",
              "      <td>1</td>\n",
              "    </tr>\n",
              "    <tr>\n",
              "      <th>1</th>\n",
              "      <td>_ m o r a n   b i g   f a n   s o c i a l   r ...</td>\n",
              "      <td>1</td>\n",
              "    </tr>\n",
              "    <tr>\n",
              "      <th>2</th>\n",
              "      <td>_ p r e s i o n   n e w   o w n e r   r e n e ...</td>\n",
              "      <td>1</td>\n",
              "    </tr>\n",
              "    <tr>\n",
              "      <th>3</th>\n",
              "      <td>_ d o l e r a   e n e r g i   p r i c e   d i ...</td>\n",
              "      <td>1</td>\n",
              "    </tr>\n",
              "    <tr>\n",
              "      <th>4</th>\n",
              "      <td>i m p o r t   s p r e a d   m e s s a g   r a ...</td>\n",
              "      <td>1</td>\n",
              "    </tr>\n",
              "    <tr>\n",
              "      <th>...</th>\n",
              "      <td>...</td>\n",
              "      <td>...</td>\n",
              "    </tr>\n",
              "    <tr>\n",
              "      <th>93</th>\n",
              "      <td>n e w p r o f i l e p h o t o</td>\n",
              "      <td>0</td>\n",
              "    </tr>\n",
              "    <tr>\n",
              "      <th>94</th>\n",
              "      <td>s t u d i   c o r r o b o r   a n d a l u s i ...</td>\n",
              "      <td>1</td>\n",
              "    </tr>\n",
              "    <tr>\n",
              "      <th>95</th>\n",
              "      <td>w i n   i n d e p e n d e n t i s t a   a l f ...</td>\n",
              "      <td>1</td>\n",
              "    </tr>\n",
              "    <tr>\n",
              "      <th>96</th>\n",
              "      <td>h e r n a n d o   p p   i n s t e a d   c o m ...</td>\n",
              "      <td>1</td>\n",
              "    </tr>\n",
              "    <tr>\n",
              "      <th>97</th>\n",
              "      <td>b l a m e   f a c t   n a t i o n   p p   i m ...</td>\n",
              "      <td>1</td>\n",
              "    </tr>\n",
              "  </tbody>\n",
              "</table>\n",
              "<p>98 rows × 2 columns</p>\n",
              "</div>\n",
              "      <button class=\"colab-df-convert\" onclick=\"convertToInteractive('df-5cc160a8-3b1f-4ba9-9255-57d047ec7d81')\"\n",
              "              title=\"Convert this dataframe to an interactive table.\"\n",
              "              style=\"display:none;\">\n",
              "        \n",
              "  <svg xmlns=\"http://www.w3.org/2000/svg\" height=\"24px\"viewBox=\"0 0 24 24\"\n",
              "       width=\"24px\">\n",
              "    <path d=\"M0 0h24v24H0V0z\" fill=\"none\"/>\n",
              "    <path d=\"M18.56 5.44l.94 2.06.94-2.06 2.06-.94-2.06-.94-.94-2.06-.94 2.06-2.06.94zm-11 1L8.5 8.5l.94-2.06 2.06-.94-2.06-.94L8.5 2.5l-.94 2.06-2.06.94zm10 10l.94 2.06.94-2.06 2.06-.94-2.06-.94-.94-2.06-.94 2.06-2.06.94z\"/><path d=\"M17.41 7.96l-1.37-1.37c-.4-.4-.92-.59-1.43-.59-.52 0-1.04.2-1.43.59L10.3 9.45l-7.72 7.72c-.78.78-.78 2.05 0 2.83L4 21.41c.39.39.9.59 1.41.59.51 0 1.02-.2 1.41-.59l7.78-7.78 2.81-2.81c.8-.78.8-2.07 0-2.86zM5.41 20L4 18.59l7.72-7.72 1.47 1.35L5.41 20z\"/>\n",
              "  </svg>\n",
              "      </button>\n",
              "      \n",
              "  <style>\n",
              "    .colab-df-container {\n",
              "      display:flex;\n",
              "      flex-wrap:wrap;\n",
              "      gap: 12px;\n",
              "    }\n",
              "\n",
              "    .colab-df-convert {\n",
              "      background-color: #E8F0FE;\n",
              "      border: none;\n",
              "      border-radius: 50%;\n",
              "      cursor: pointer;\n",
              "      display: none;\n",
              "      fill: #1967D2;\n",
              "      height: 32px;\n",
              "      padding: 0 0 0 0;\n",
              "      width: 32px;\n",
              "    }\n",
              "\n",
              "    .colab-df-convert:hover {\n",
              "      background-color: #E2EBFA;\n",
              "      box-shadow: 0px 1px 2px rgba(60, 64, 67, 0.3), 0px 1px 3px 1px rgba(60, 64, 67, 0.15);\n",
              "      fill: #174EA6;\n",
              "    }\n",
              "\n",
              "    [theme=dark] .colab-df-convert {\n",
              "      background-color: #3B4455;\n",
              "      fill: #D2E3FC;\n",
              "    }\n",
              "\n",
              "    [theme=dark] .colab-df-convert:hover {\n",
              "      background-color: #434B5C;\n",
              "      box-shadow: 0px 1px 3px 1px rgba(0, 0, 0, 0.15);\n",
              "      filter: drop-shadow(0px 1px 2px rgba(0, 0, 0, 0.3));\n",
              "      fill: #FFFFFF;\n",
              "    }\n",
              "  </style>\n",
              "\n",
              "      <script>\n",
              "        const buttonEl =\n",
              "          document.querySelector('#df-5cc160a8-3b1f-4ba9-9255-57d047ec7d81 button.colab-df-convert');\n",
              "        buttonEl.style.display =\n",
              "          google.colab.kernel.accessAllowed ? 'block' : 'none';\n",
              "\n",
              "        async function convertToInteractive(key) {\n",
              "          const element = document.querySelector('#df-5cc160a8-3b1f-4ba9-9255-57d047ec7d81');\n",
              "          const dataTable =\n",
              "            await google.colab.kernel.invokeFunction('convertToInteractive',\n",
              "                                                     [key], {});\n",
              "          if (!dataTable) return;\n",
              "\n",
              "          const docLinkHtml = 'Like what you see? Visit the ' +\n",
              "            '<a target=\"_blank\" href=https://colab.research.google.com/notebooks/data_table.ipynb>data table notebook</a>'\n",
              "            + ' to learn more about interactive tables.';\n",
              "          element.innerHTML = '';\n",
              "          dataTable['output_type'] = 'display_data';\n",
              "          await google.colab.output.renderOutput(dataTable, element);\n",
              "          const docLink = document.createElement('div');\n",
              "          docLink.innerHTML = docLinkHtml;\n",
              "          element.appendChild(docLink);\n",
              "        }\n",
              "      </script>\n",
              "    </div>\n",
              "  </div>\n",
              "  "
            ]
          },
          "metadata": {},
          "execution_count": 262
        }
      ]
    },
    {
      "cell_type": "code",
      "source": [
        "y = replacement_df.sentiment"
      ],
      "metadata": {
        "id": "3mGPgGkX31pc"
      },
      "execution_count": null,
      "outputs": []
    },
    {
      "cell_type": "code",
      "source": [
        "docs = df['English'].iloc[:-1]\n",
        "labels = y\n",
        "from sklearn.model_selection import train_test_split\n",
        "X_train, X_test , y_train, y_test = train_test_split(docs, labels , test_size = 0.30,shuffle=1)"
      ],
      "metadata": {
        "id": "b7Ux_O1v4WS5"
      },
      "execution_count": null,
      "outputs": []
    },
    {
      "cell_type": "code",
      "source": [
        "from tensorflow.keras.preprocessing.text import one_hot\n",
        "\n",
        "vocab_size = 1000\n",
        "\n",
        "X_train = [one_hot(d, vocab_size,filters='!\"#$%&()*+,-./:;<=>?@[\\]^_`{|}~',lower=True, split=' ') for d in X_train]\n",
        "X_test = [one_hot(d, vocab_size,filters='!\"#$%&()*+,-./:;<=>?@[\\]^_`{|}~',lower=True, split=' ') for d in X_test]"
      ],
      "metadata": {
        "id": "xVqxg1Xu5RRx"
      },
      "execution_count": null,
      "outputs": []
    },
    {
      "cell_type": "code",
      "source": [
        "print(X_train[2])"
      ],
      "metadata": {
        "colab": {
          "base_uri": "https://localhost:8080/"
        },
        "id": "PxuYq0FS5TeF",
        "outputId": "43653a6e-20aa-4ebb-b966-3209c7b05916"
      },
      "execution_count": null,
      "outputs": [
        {
          "output_type": "stream",
          "name": "stdout",
          "text": [
            "[164, 150, 383, 290, 428, 853, 932, 850, 4, 30, 327]\n"
          ]
        }
      ]
    },
    {
      "cell_type": "markdown",
      "source": [
        "Padding the sequence"
      ],
      "metadata": {
        "id": "pFMTaZuT5fce"
      }
    },
    {
      "cell_type": "code",
      "source": [
        "from tensorflow.keras.preprocessing.sequence import pad_sequences\n",
        "\n",
        "max_length = 200\n",
        "X_train = pad_sequences(X_train, maxlen=max_length, padding='post')\n",
        "X_test = pad_sequences(X_test, maxlen=max_length, padding='post')"
      ],
      "metadata": {
        "id": "H6F1ZqFW5hxz"
      },
      "execution_count": null,
      "outputs": []
    },
    {
      "cell_type": "code",
      "source": [
        "X_train.shape"
      ],
      "metadata": {
        "colab": {
          "base_uri": "https://localhost:8080/"
        },
        "id": "W-Hv0IlM0Rqz",
        "outputId": "6b6481b8-77f0-4b5e-b170-ccc5c1981356"
      },
      "execution_count": null,
      "outputs": [
        {
          "output_type": "execute_result",
          "data": {
            "text/plain": [
              "(68, 200)"
            ]
          },
          "metadata": {},
          "execution_count": 268
        }
      ]
    },
    {
      "cell_type": "markdown",
      "source": [
        "Applying CNN"
      ],
      "metadata": {
        "id": "h5OrDZQ2Wu_f"
      }
    },
    {
      "cell_type": "code",
      "source": [
        "from tensorflow.keras.layers import Dense, Embedding,GlobalMaxPooling1D\n",
        "from keras.layers.convolutional import Conv1D \n",
        "from tensorflow.keras.models import Sequential\n",
        "from tensorflow.keras.layers import Dense\n",
        "from tensorflow.keras.layers import Embedding\n",
        "\n",
        "model_1D = Sequential([\n",
        "    Embedding(vocab_size, 8, input_length=max_length),\n",
        "   Conv1D(32, 4, activation='relu',use_bias = True),\n",
        "    GlobalMaxPooling1D(),\n",
        "  Dense(10, activation='relu'),\n",
        "  Dense(1, activation='sigmoid')\n",
        "])\n"
      ],
      "metadata": {
        "id": "RyEUHVjb5rtR"
      },
      "execution_count": null,
      "outputs": []
    },
    {
      "cell_type": "code",
      "source": [
        "model_1D.compile(optimizer='adam', loss='binary_crossentropy', metrics=['acc'])"
      ],
      "metadata": {
        "id": "X9WAZWNl51YG"
      },
      "execution_count": null,
      "outputs": []
    },
    {
      "cell_type": "code",
      "source": [
        "history = model_1D.fit(X_train, y_train, epochs=10, validation_data=(X_test, y_test))"
      ],
      "metadata": {
        "id": "A2lvEx2t56Si",
        "colab": {
          "base_uri": "https://localhost:8080/"
        },
        "outputId": "6c0b44d7-b4c6-44dc-8a9c-12f27fc4fa1e"
      },
      "execution_count": null,
      "outputs": [
        {
          "output_type": "stream",
          "name": "stdout",
          "text": [
            "Epoch 1/10\n",
            "3/3 [==============================] - 1s 114ms/step - loss: 0.7140 - acc: 0.2353 - val_loss: 0.6983 - val_acc: 0.3667\n",
            "Epoch 2/10\n",
            "3/3 [==============================] - 0s 20ms/step - loss: 0.7027 - acc: 0.2353 - val_loss: 0.6954 - val_acc: 0.3667\n",
            "Epoch 3/10\n",
            "3/3 [==============================] - 0s 20ms/step - loss: 0.6965 - acc: 0.2353 - val_loss: 0.6932 - val_acc: 0.3667\n",
            "Epoch 4/10\n",
            "3/3 [==============================] - 0s 19ms/step - loss: 0.6926 - acc: 0.5294 - val_loss: 0.6920 - val_acc: 0.7000\n",
            "Epoch 5/10\n",
            "3/3 [==============================] - 0s 27ms/step - loss: 0.6899 - acc: 0.8382 - val_loss: 0.6911 - val_acc: 0.6667\n",
            "Epoch 6/10\n",
            "3/3 [==============================] - 0s 26ms/step - loss: 0.6883 - acc: 0.8088 - val_loss: 0.6906 - val_acc: 0.6333\n",
            "Epoch 7/10\n",
            "3/3 [==============================] - 0s 36ms/step - loss: 0.6876 - acc: 0.7941 - val_loss: 0.6902 - val_acc: 0.6333\n",
            "Epoch 8/10\n",
            "3/3 [==============================] - 0s 20ms/step - loss: 0.6867 - acc: 0.7794 - val_loss: 0.6899 - val_acc: 0.6333\n",
            "Epoch 9/10\n",
            "3/3 [==============================] - 0s 22ms/step - loss: 0.6857 - acc: 0.7941 - val_loss: 0.6896 - val_acc: 0.6333\n",
            "Epoch 10/10\n",
            "3/3 [==============================] - 0s 20ms/step - loss: 0.6845 - acc: 0.7941 - val_loss: 0.6892 - val_acc: 0.6333\n"
          ]
        }
      ]
    },
    {
      "cell_type": "code",
      "source": [
        "loss, accuracy = model_1D.evaluate(X_test,y_test)\n",
        "print('Testing Accuracy is {} '.format(accuracy*100))"
      ],
      "metadata": {
        "id": "PapIXoTi6BM5",
        "colab": {
          "base_uri": "https://localhost:8080/"
        },
        "outputId": "ce20f70f-d1d1-4964-a675-78bbf6f42d46"
      },
      "execution_count": null,
      "outputs": [
        {
          "output_type": "stream",
          "name": "stdout",
          "text": [
            "1/1 [==============================] - 0s 23ms/step - loss: 0.6892 - acc: 0.6333\n",
            "Testing Accuracy is 63.333332538604736 \n"
          ]
        }
      ]
    },
    {
      "cell_type": "markdown",
      "source": [
        "Creating RNN (LSTM)"
      ],
      "metadata": {
        "id": "4zbSRosOMhtF"
      }
    },
    {
      "cell_type": "code",
      "source": [
        "from keras.models import Model\n",
        "from keras.layers import LSTM, Activation, Dense, Dropout, Input, Embedding\n",
        "from keras.optimizers import RMSprop\n",
        "from keras.preprocessing.text import Tokenizer\n",
        "from keras.preprocessing import sequence\n",
        "from keras.utils import to_categorical\n",
        "from keras.callbacks import EarlyStopping\n",
        "from keras_preprocessing.sequence import pad_sequences\n",
        "import tensorflow as tf"
      ],
      "metadata": {
        "id": "_u6Ef7Bc9IVt"
      },
      "execution_count": null,
      "outputs": []
    },
    {
      "cell_type": "code",
      "source": [
        "def RNN():\n",
        "    inputs = Input(name='inputs',shape=[max_length])\n",
        "    layer = Embedding(vocab_size,50,input_length=max_length)(inputs)\n",
        "    layer = LSTM(100)(layer)\n",
        "    layer = Dense(100)(layer)\n",
        "    layer = Activation('softmax')(layer)\n",
        "    layer = Dropout(0.5)(layer)\n",
        "    layer = Dense(1)(layer)\n",
        "    layer = Activation('softmax')(layer)\n",
        "    model = Model(inputs=inputs,outputs=layer)\n",
        "    return model"
      ],
      "metadata": {
        "id": "p3IpD1PI9AkQ"
      },
      "execution_count": null,
      "outputs": []
    },
    {
      "cell_type": "code",
      "source": [
        "model_RNN = RNN()\n",
        "model_RNN.summary()\n",
        "model_RNN.compile(loss='binary_crossentropy',optimizer=RMSprop(),metrics=['accuracy'])"
      ],
      "metadata": {
        "colab": {
          "base_uri": "https://localhost:8080/"
        },
        "id": "V79tU2St9Cdh",
        "outputId": "65b4cb96-fc2f-4a76-d2e0-a5f354f7bf2f"
      },
      "execution_count": null,
      "outputs": [
        {
          "output_type": "stream",
          "name": "stdout",
          "text": [
            "Model: \"model_7\"\n",
            "_________________________________________________________________\n",
            " Layer (type)                Output Shape              Param #   \n",
            "=================================================================\n",
            " inputs (InputLayer)         [(None, 200)]             0         \n",
            "                                                                 \n",
            " embedding_17 (Embedding)    (None, 200, 50)           50000     \n",
            "                                                                 \n",
            " lstm_4 (LSTM)               (None, 100)               60400     \n",
            "                                                                 \n",
            " dense_21 (Dense)            (None, 100)               10100     \n",
            "                                                                 \n",
            " activation_8 (Activation)   (None, 100)               0         \n",
            "                                                                 \n",
            " dropout_13 (Dropout)        (None, 100)               0         \n",
            "                                                                 \n",
            " dense_22 (Dense)            (None, 1)                 101       \n",
            "                                                                 \n",
            " activation_9 (Activation)   (None, 1)                 0         \n",
            "                                                                 \n",
            "=================================================================\n",
            "Total params: 120,601\n",
            "Trainable params: 120,601\n",
            "Non-trainable params: 0\n",
            "_________________________________________________________________\n"
          ]
        }
      ]
    },
    {
      "cell_type": "code",
      "source": [
        "RNN_fit = model_RNN.fit(X_train, y_train, epochs=10, validation_data=(X_test, y_test))"
      ],
      "metadata": {
        "colab": {
          "base_uri": "https://localhost:8080/"
        },
        "id": "E_AAPDPQICra",
        "outputId": "ef669870-234a-4006-9f66-eb2739b80b31"
      },
      "execution_count": null,
      "outputs": [
        {
          "output_type": "stream",
          "name": "stdout",
          "text": [
            "Epoch 1/10\n",
            "3/3 [==============================] - 5s 535ms/step - loss: 0.6836 - accuracy: 0.7647 - val_loss: 0.6865 - val_accuracy: 0.6333\n",
            "Epoch 2/10\n",
            "3/3 [==============================] - 1s 198ms/step - loss: 0.6759 - accuracy: 0.7647 - val_loss: 0.6771 - val_accuracy: 0.6333\n",
            "Epoch 3/10\n",
            "3/3 [==============================] - 1s 203ms/step - loss: 0.6591 - accuracy: 0.7647 - val_loss: 0.6740 - val_accuracy: 0.6333\n",
            "Epoch 4/10\n",
            "3/3 [==============================] - 1s 206ms/step - loss: 0.6488 - accuracy: 0.7647 - val_loss: 0.6713 - val_accuracy: 0.6333\n",
            "Epoch 5/10\n",
            "3/3 [==============================] - 1s 209ms/step - loss: 0.6435 - accuracy: 0.7647 - val_loss: 0.6700 - val_accuracy: 0.6333\n",
            "Epoch 6/10\n",
            "3/3 [==============================] - 1s 196ms/step - loss: 0.6387 - accuracy: 0.7647 - val_loss: 0.6694 - val_accuracy: 0.6333\n",
            "Epoch 7/10\n",
            "3/3 [==============================] - 1s 194ms/step - loss: 0.6564 - accuracy: 0.7647 - val_loss: 0.6689 - val_accuracy: 0.6333\n",
            "Epoch 8/10\n",
            "3/3 [==============================] - 1s 199ms/step - loss: 0.6335 - accuracy: 0.7647 - val_loss: 0.6687 - val_accuracy: 0.6333\n",
            "Epoch 9/10\n",
            "3/3 [==============================] - 1s 198ms/step - loss: 0.6428 - accuracy: 0.7647 - val_loss: 0.6682 - val_accuracy: 0.6333\n",
            "Epoch 10/10\n",
            "3/3 [==============================] - 1s 203ms/step - loss: 0.6362 - accuracy: 0.7647 - val_loss: 0.6676 - val_accuracy: 0.6333\n"
          ]
        }
      ]
    },
    {
      "cell_type": "code",
      "source": [
        "loss_RNN, accuracy_RNN = model_RNN.evaluate(X_test,y_test)\n",
        "print('Testing Accuracy is {} '.format(accuracy_RNN*100))"
      ],
      "metadata": {
        "id": "Ub-9QKgY2ggj"
      },
      "execution_count": null,
      "outputs": []
    },
    {
      "cell_type": "code",
      "source": [
        "from keras.layers import InputLayer, Conv1D, Dense, Flatten, MaxPooling1D\n",
        "from keras.models import Sequential\n",
        "from keras.layers import concatenate"
      ],
      "metadata": {
        "id": "lOm07Lu7lESB"
      },
      "execution_count": null,
      "outputs": []
    },
    {
      "cell_type": "code",
      "source": [
        "def build_model(vocab_size,length):\n",
        "    \n",
        "    # channel 1\n",
        "    inputs1 = Input(shape=(length,))\n",
        "    embedding1 = Embedding(vocab_size,100)(inputs1)\n",
        "    conv1 = Conv1D(filters=32,kernel_size=4,activation='relu')(embedding1)\n",
        "    drop1 = Dropout(0.4)(conv1)\n",
        "    maxpool1 = MaxPooling1D(pool_size=2)(drop1)\n",
        "    flat1 = Flatten()(maxpool1)\n",
        "    \n",
        "    # channel 2\n",
        "    inputs2 = Input(shape=(length,))\n",
        "    embedding2 = Embedding(vocab_size,100)(inputs2)\n",
        "    conv2 = Conv1D(filters=32,kernel_size=6,activation='relu')(embedding2)\n",
        "    drop2 = Dropout(0.5)(conv2)\n",
        "    maxpool2 = MaxPooling1D(pool_size=2)(drop2)\n",
        "    flat2 = Flatten()(maxpool2)\n",
        "    \n",
        "    #channel 3 \n",
        "    inputs3 = Input(shape=(length,))\n",
        "    embedding3 = Embedding(vocab_size,100)(inputs3)\n",
        "    conv3 = Conv1D(filters=32,kernel_size=8,activation='relu')(embedding3)\n",
        "    drop3 = Dropout(0.5)(conv3)\n",
        "    maxpool3 = MaxPooling1D(pool_size=2)(drop3)\n",
        "    flat3 = Flatten()(maxpool3)\n",
        "    \n",
        "    #merge \n",
        "    merged = concatenate([flat1,flat2,flat3])\n",
        "    \n",
        "    #Dense layers\n",
        "    Dense1 = Dense(10,activation='relu')(merged)\n",
        "    outputs = Dense(1,activation='sigmoid')(Dense1)\n",
        "    \n",
        "    model = Model(inputs = [inputs1,inputs2,inputs3],outputs=outputs)\n",
        "    \n",
        "    #compile\n",
        "    model.compile(loss='binary_crossentropy',optimizer='adam',metrics = ['accuracy'])\n",
        "    \n",
        "    model.summary()\n",
        "    \n",
        "    return model\n"
      ],
      "metadata": {
        "id": "oV11MzkkkvC2"
      },
      "execution_count": null,
      "outputs": []
    },
    {
      "cell_type": "code",
      "source": [
        "model = build_model(vocab_size,max_length)"
      ],
      "metadata": {
        "id": "ORs8jBjQk0xD"
      },
      "execution_count": null,
      "outputs": []
    },
    {
      "cell_type": "code",
      "source": [
        "model.fit([X_train,X_train,X_train],y_train,epochs=7,batch_size=20)"
      ],
      "metadata": {
        "id": "sGfQ141ilmbn"
      },
      "execution_count": null,
      "outputs": []
    },
    {
      "cell_type": "code",
      "source": [
        "_, acc = model.evaluate([X_train,X_train,X_train], y_train) \n",
        "print('Train Accuracy: %.2f' % (acc*100)) \n",
        "_, acc = model.evaluate([X_test,X_test,X_test], y_test) \n",
        "print('Test Accuracy: %.2f' % (acc*100))"
      ],
      "metadata": {
        "id": "XyXVs5mXmMpc"
      },
      "execution_count": null,
      "outputs": []
    }
  ]
}